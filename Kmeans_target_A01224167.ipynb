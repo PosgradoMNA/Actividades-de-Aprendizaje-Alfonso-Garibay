{
  "nbformat": 4,
  "nbformat_minor": 0,
  "metadata": {
    "colab": {
      "provenance": [],
      "collapsed_sections": [],
      "include_colab_link": true
    },
    "kernelspec": {
      "name": "python3",
      "display_name": "Python 3"
    },
    "language_info": {
      "name": "python"
    }
  },
  "cells": [
    {
      "cell_type": "markdown",
      "metadata": {
        "id": "view-in-github",
        "colab_type": "text"
      },
      "source": [
        "<a href=\"https://colab.research.google.com/github/PosgradoMNA/Actividades-de-Aprendizaje-Alfonso-Garibay/blob/main/Kmeans_target_A01224167.ipynb\" target=\"_parent\"><img src=\"https://colab.research.google.com/assets/colab-badge.svg\" alt=\"Open In Colab\"/></a>"
      ]
    },
    {
      "cell_type": "markdown",
      "source": [
        "**Actividad Semanal -- 7 K means**\n",
        "\n",
        "**Maestría en Inteligencia Artificial Aplicada**\n",
        "\n",
        "**Ciencia y analítica de datos**\n",
        "\n",
        "**Maria de la Paz Rico Fdz**\n",
        "\n",
        "**Estudiante: Alfonso Garibay Flores**\n",
        "\n",
        "**Matrícula: A01224167**"
      ],
      "metadata": {
        "id": "nboewuVN2EOs"
      }
    },
    {
      "cell_type": "markdown",
      "source": [
        "Este notebook se basa en información de target\n",
        "![imagen.png](https://www.america-retail.com/static//2020/12/target01.jpg)\n",
        "\n",
        "\n",
        "Ahora imagina que somos parte del equipo de data science de la empresa Target, una de las tiendas con mayor presencia en Estados Unidos. El departamento de logistica acude a nosotros para saber donde le conviene poner sus almacenes, para que se optimice el gasto de gasolina, los tiempos de entrega de los productos y se disminuyan costos. Para ello, nos pasan los datos de latitud y longitud de cada una de las tiendas.\n",
        "\n",
        "https://www.kaggle.com/datasets/saejinmahlauheinert/target-store-locations?select=target-locations.csv\n",
        "\n",
        "Si quieres saber un poco más de graficas geográficas consulta el siguiente notebook\n",
        "https://colab.research.google.com/github/QuantEcon/quantecon-notebooks-datascience/blob/master/applications/maps.ipynb#scrollTo=uo2oPtSCeAOz"
      ],
      "metadata": {
        "id": "6mUW5QNwhz5T"
      }
    },
    {
      "cell_type": "code",
      "source": [
        "! pip install qeds fiona geopandas xgboost gensim folium pyLDAvis descartes"
      ],
      "metadata": {
        "colab": {
          "base_uri": "https://localhost:8080/"
        },
        "id": "YwkfEqinwESD",
        "outputId": "8f14a8cc-2f58-49f8-cfe4-60497212a6bc"
      },
      "execution_count": 1,
      "outputs": [
        {
          "output_type": "stream",
          "name": "stdout",
          "text": [
            "Looking in indexes: https://pypi.org/simple, https://us-python.pkg.dev/colab-wheels/public/simple/\n",
            "Collecting qeds\n",
            "  Downloading qeds-0.7.0.tar.gz (24 kB)\n",
            "Collecting fiona\n",
            "  Downloading Fiona-1.8.22-cp37-cp37m-manylinux2014_x86_64.whl (16.7 MB)\n",
            "\u001b[K     |████████████████████████████████| 16.7 MB 399 kB/s \n",
            "\u001b[?25hCollecting geopandas\n",
            "  Downloading geopandas-0.10.2-py2.py3-none-any.whl (1.0 MB)\n",
            "\u001b[K     |████████████████████████████████| 1.0 MB 36.4 MB/s \n",
            "\u001b[?25hRequirement already satisfied: xgboost in /usr/local/lib/python3.7/dist-packages (0.90)\n",
            "Requirement already satisfied: gensim in /usr/local/lib/python3.7/dist-packages (3.6.0)\n",
            "Requirement already satisfied: folium in /usr/local/lib/python3.7/dist-packages (0.12.1.post1)\n",
            "Collecting pyLDAvis\n",
            "  Downloading pyLDAvis-3.3.1.tar.gz (1.7 MB)\n",
            "\u001b[K     |████████████████████████████████| 1.7 MB 18.9 MB/s \n",
            "\u001b[?25h  Installing build dependencies ... \u001b[?25l\u001b[?25hdone\n",
            "  Getting requirements to build wheel ... \u001b[?25l\u001b[?25hdone\n",
            "  Installing backend dependencies ... \u001b[?25l\u001b[?25hdone\n",
            "    Preparing wheel metadata ... \u001b[?25l\u001b[?25hdone\n",
            "Requirement already satisfied: descartes in /usr/local/lib/python3.7/dist-packages (1.1.0)\n",
            "Requirement already satisfied: pandas in /usr/local/lib/python3.7/dist-packages (from qeds) (1.3.5)\n",
            "Requirement already satisfied: requests in /usr/local/lib/python3.7/dist-packages (from qeds) (2.23.0)\n",
            "Collecting quandl\n",
            "  Downloading Quandl-3.7.0-py2.py3-none-any.whl (26 kB)\n",
            "Requirement already satisfied: scipy in /usr/local/lib/python3.7/dist-packages (from qeds) (1.7.3)\n",
            "Requirement already satisfied: numpy in /usr/local/lib/python3.7/dist-packages (from qeds) (1.21.6)\n",
            "Collecting quantecon\n",
            "  Downloading quantecon-0.5.3-py3-none-any.whl (179 kB)\n",
            "\u001b[K     |████████████████████████████████| 179 kB 51.2 MB/s \n",
            "\u001b[?25hRequirement already satisfied: matplotlib in /usr/local/lib/python3.7/dist-packages (from qeds) (3.2.2)\n",
            "Requirement already satisfied: pyarrow in /usr/local/lib/python3.7/dist-packages (from qeds) (6.0.1)\n",
            "Requirement already satisfied: openpyxl in /usr/local/lib/python3.7/dist-packages (from qeds) (3.0.10)\n",
            "Requirement already satisfied: plotly in /usr/local/lib/python3.7/dist-packages (from qeds) (5.5.0)\n",
            "Requirement already satisfied: pandas_datareader in /usr/local/lib/python3.7/dist-packages (from qeds) (0.9.0)\n",
            "Requirement already satisfied: scikit-learn in /usr/local/lib/python3.7/dist-packages (from qeds) (1.0.2)\n",
            "Requirement already satisfied: seaborn in /usr/local/lib/python3.7/dist-packages (from qeds) (0.11.2)\n",
            "Requirement already satisfied: statsmodels in /usr/local/lib/python3.7/dist-packages (from qeds) (0.12.2)\n",
            "Requirement already satisfied: six>=1.7 in /usr/local/lib/python3.7/dist-packages (from fiona) (1.15.0)\n",
            "Collecting cligj>=0.5\n",
            "  Downloading cligj-0.7.2-py3-none-any.whl (7.1 kB)\n",
            "Requirement already satisfied: attrs>=17 in /usr/local/lib/python3.7/dist-packages (from fiona) (22.1.0)\n",
            "Collecting click-plugins>=1.0\n",
            "  Downloading click_plugins-1.1.1-py2.py3-none-any.whl (7.5 kB)\n",
            "Requirement already satisfied: click>=4.0 in /usr/local/lib/python3.7/dist-packages (from fiona) (7.1.2)\n",
            "Collecting munch\n",
            "  Downloading munch-2.5.0-py2.py3-none-any.whl (10 kB)\n",
            "Requirement already satisfied: setuptools in /usr/local/lib/python3.7/dist-packages (from fiona) (57.4.0)\n",
            "Requirement already satisfied: certifi in /usr/local/lib/python3.7/dist-packages (from fiona) (2022.9.24)\n",
            "Collecting pyproj>=2.2.0\n",
            "  Downloading pyproj-3.2.1-cp37-cp37m-manylinux2010_x86_64.whl (6.3 MB)\n",
            "\u001b[K     |████████████████████████████████| 6.3 MB 29.5 MB/s \n",
            "\u001b[?25hRequirement already satisfied: shapely>=1.6 in /usr/local/lib/python3.7/dist-packages (from geopandas) (1.8.5.post1)\n",
            "Requirement already satisfied: python-dateutil>=2.7.3 in /usr/local/lib/python3.7/dist-packages (from pandas->qeds) (2.8.2)\n",
            "Requirement already satisfied: pytz>=2017.3 in /usr/local/lib/python3.7/dist-packages (from pandas->qeds) (2022.6)\n",
            "Requirement already satisfied: smart-open>=1.2.1 in /usr/local/lib/python3.7/dist-packages (from gensim) (5.2.1)\n",
            "Requirement already satisfied: branca>=0.3.0 in /usr/local/lib/python3.7/dist-packages (from folium) (0.5.0)\n",
            "Requirement already satisfied: jinja2>=2.9 in /usr/local/lib/python3.7/dist-packages (from folium) (2.11.3)\n",
            "Requirement already satisfied: MarkupSafe>=0.23 in /usr/local/lib/python3.7/dist-packages (from jinja2>=2.9->folium) (2.0.1)\n",
            "Collecting funcy\n",
            "  Downloading funcy-1.17-py2.py3-none-any.whl (33 kB)\n",
            "Requirement already satisfied: joblib in /usr/local/lib/python3.7/dist-packages (from pyLDAvis) (1.2.0)\n",
            "Requirement already satisfied: numexpr in /usr/local/lib/python3.7/dist-packages (from pyLDAvis) (2.8.4)\n",
            "Collecting sklearn\n",
            "  Downloading sklearn-0.0.post1.tar.gz (3.6 kB)\n",
            "Requirement already satisfied: future in /usr/local/lib/python3.7/dist-packages (from pyLDAvis) (0.16.0)\n",
            "Requirement already satisfied: cycler>=0.10 in /usr/local/lib/python3.7/dist-packages (from matplotlib->qeds) (0.11.0)\n",
            "Requirement already satisfied: pyparsing!=2.0.4,!=2.1.2,!=2.1.6,>=2.0.1 in /usr/local/lib/python3.7/dist-packages (from matplotlib->qeds) (3.0.9)\n",
            "Requirement already satisfied: kiwisolver>=1.0.1 in /usr/local/lib/python3.7/dist-packages (from matplotlib->qeds) (1.4.4)\n",
            "Requirement already satisfied: typing-extensions in /usr/local/lib/python3.7/dist-packages (from kiwisolver>=1.0.1->matplotlib->qeds) (4.1.1)\n",
            "Requirement already satisfied: et-xmlfile in /usr/local/lib/python3.7/dist-packages (from openpyxl->qeds) (1.1.0)\n",
            "Requirement already satisfied: lxml in /usr/local/lib/python3.7/dist-packages (from pandas_datareader->qeds) (4.9.1)\n",
            "Requirement already satisfied: urllib3!=1.25.0,!=1.25.1,<1.26,>=1.21.1 in /usr/local/lib/python3.7/dist-packages (from requests->qeds) (1.24.3)\n",
            "Requirement already satisfied: idna<3,>=2.5 in /usr/local/lib/python3.7/dist-packages (from requests->qeds) (2.10)\n",
            "Requirement already satisfied: chardet<4,>=3.0.2 in /usr/local/lib/python3.7/dist-packages (from requests->qeds) (3.0.4)\n",
            "Requirement already satisfied: tenacity>=6.2.0 in /usr/local/lib/python3.7/dist-packages (from plotly->qeds) (8.1.0)\n",
            "Requirement already satisfied: more-itertools in /usr/local/lib/python3.7/dist-packages (from quandl->qeds) (9.0.0)\n",
            "Collecting inflection>=0.3.1\n",
            "  Downloading inflection-0.5.1-py2.py3-none-any.whl (9.5 kB)\n",
            "Requirement already satisfied: sympy in /usr/local/lib/python3.7/dist-packages (from quantecon->qeds) (1.7.1)\n",
            "Requirement already satisfied: numba in /usr/local/lib/python3.7/dist-packages (from quantecon->qeds) (0.56.4)\n",
            "Requirement already satisfied: llvmlite<0.40,>=0.39.0dev0 in /usr/local/lib/python3.7/dist-packages (from numba->quantecon->qeds) (0.39.1)\n",
            "Requirement already satisfied: importlib-metadata in /usr/local/lib/python3.7/dist-packages (from numba->quantecon->qeds) (4.13.0)\n",
            "Requirement already satisfied: zipp>=0.5 in /usr/local/lib/python3.7/dist-packages (from importlib-metadata->numba->quantecon->qeds) (3.10.0)\n",
            "Requirement already satisfied: threadpoolctl>=2.0.0 in /usr/local/lib/python3.7/dist-packages (from scikit-learn->qeds) (3.1.0)\n",
            "Requirement already satisfied: patsy>=0.5 in /usr/local/lib/python3.7/dist-packages (from statsmodels->qeds) (0.5.3)\n",
            "Requirement already satisfied: mpmath>=0.19 in /usr/local/lib/python3.7/dist-packages (from sympy->quantecon->qeds) (1.2.1)\n",
            "Building wheels for collected packages: qeds, pyLDAvis, sklearn\n",
            "  Building wheel for qeds (setup.py) ... \u001b[?25l\u001b[?25hdone\n",
            "  Created wheel for qeds: filename=qeds-0.7.0-py3-none-any.whl size=27812 sha256=33d9c55886327d6f7caf26390b4b851a8cdc674c64550be81f24420cbc6c63f4\n",
            "  Stored in directory: /root/.cache/pip/wheels/fc/8c/52/0cc036b9730b75850b9845770780f8d05ed08ff38a67cbaa29\n",
            "  Building wheel for pyLDAvis (PEP 517) ... \u001b[?25l\u001b[?25hdone\n",
            "  Created wheel for pyLDAvis: filename=pyLDAvis-3.3.1-py2.py3-none-any.whl size=136897 sha256=fa401ac8ff757ecf45aca8a81c23efd415adcdcf9335f48b61c2ad25a3a94367\n",
            "  Stored in directory: /root/.cache/pip/wheels/c9/21/f6/17bcf2667e8a68532ba2fbf6d5c72fdf4c7f7d9abfa4852d2f\n",
            "  Building wheel for sklearn (setup.py) ... \u001b[?25l\u001b[?25hdone\n",
            "  Created wheel for sklearn: filename=sklearn-0.0.post1-py3-none-any.whl size=2344 sha256=f52bc1b2e8d11ffbea0bb41d66bc8670a7cd2f04c967f47216ea60d936d3f825\n",
            "  Stored in directory: /root/.cache/pip/wheels/42/56/cc/4a8bf86613aafd5b7f1b310477667c1fca5c51c3ae4124a003\n",
            "Successfully built qeds pyLDAvis sklearn\n",
            "Installing collected packages: munch, inflection, cligj, click-plugins, sklearn, quantecon, quandl, pyproj, funcy, fiona, qeds, pyLDAvis, geopandas\n",
            "Successfully installed click-plugins-1.1.1 cligj-0.7.2 fiona-1.8.22 funcy-1.17 geopandas-0.10.2 inflection-0.5.1 munch-2.5.0 pyLDAvis-3.3.1 pyproj-3.2.1 qeds-0.7.0 quandl-3.7.0 quantecon-0.5.3 sklearn-0.0.post1\n"
          ]
        }
      ]
    },
    {
      "cell_type": "code",
      "source": [
        "import pandas as pd\n",
        "import numpy as np\n",
        "from tqdm import tqdm\n",
        "%matplotlib inline\n",
        "import numpy as np\n",
        "import matplotlib.pyplot as plt\n",
        "import geopandas"
      ],
      "metadata": {
        "id": "WBpdGjbquQii"
      },
      "execution_count": 2,
      "outputs": []
    },
    {
      "cell_type": "markdown",
      "source": [
        "Importa la base de datos"
      ],
      "metadata": {
        "id": "KNTIoZlGvPum"
      }
    },
    {
      "cell_type": "code",
      "source": [
        "url=\"https://raw.githubusercontent.com/marypazrf/bdd/main/target-locations.csv\"\n",
        "df=pd.read_csv(url)"
      ],
      "metadata": {
        "id": "PAJWHRVN781V"
      },
      "execution_count": 3,
      "outputs": []
    },
    {
      "cell_type": "markdown",
      "source": [
        "Exploremos los datos."
      ],
      "metadata": {
        "id": "sH4hvPAYvUGY"
      }
    },
    {
      "cell_type": "code",
      "source": [
        "\n",
        "df.head()\n"
      ],
      "metadata": {
        "colab": {
          "base_uri": "https://localhost:8080/",
          "height": 206
        },
        "id": "DuzNp7KseyBg",
        "outputId": "2204117a-b151-43ab-a5a1-3fb777978ee4"
      },
      "execution_count": 4,
      "outputs": [
        {
          "output_type": "execute_result",
          "data": {
            "text/plain": [
              "        name   latitude  longitude  \\\n",
              "0  Alabaster  33.224225 -86.804174   \n",
              "1   Bessemer  33.334550 -86.989778   \n",
              "2     Daphne  30.602875 -87.895932   \n",
              "3    Decatur  34.560148 -86.971559   \n",
              "4     Dothan  31.266061 -85.446422   \n",
              "\n",
              "                                             address         phone  \\\n",
              "0        250 S Colonial Dr, Alabaster, AL 35007-4657  205-564-2608   \n",
              "1       4889 Promenade Pkwy, Bessemer, AL 35022-7305  205-565-3760   \n",
              "2          1698 US Highway 98, Daphne, AL 36526-4252  251-621-3540   \n",
              "3  1235 Point Mallard Pkwy SE, Decatur, AL 35601-...  256-898-3036   \n",
              "4         4601 Montgomery Hwy, Dothan, AL 36303-1522  334-340-1112   \n",
              "\n",
              "                                    website  \n",
              "0  https://www.target.com/sl/alabaster/2276  \n",
              "1   https://www.target.com/sl/bessemer/2375  \n",
              "2     https://www.target.com/sl/daphne/1274  \n",
              "3    https://www.target.com/sl/decatur/2084  \n",
              "4     https://www.target.com/sl/dothan/1468  "
            ],
            "text/html": [
              "\n",
              "  <div id=\"df-59dcc0b9-f695-4677-9286-15d94115b74c\">\n",
              "    <div class=\"colab-df-container\">\n",
              "      <div>\n",
              "<style scoped>\n",
              "    .dataframe tbody tr th:only-of-type {\n",
              "        vertical-align: middle;\n",
              "    }\n",
              "\n",
              "    .dataframe tbody tr th {\n",
              "        vertical-align: top;\n",
              "    }\n",
              "\n",
              "    .dataframe thead th {\n",
              "        text-align: right;\n",
              "    }\n",
              "</style>\n",
              "<table border=\"1\" class=\"dataframe\">\n",
              "  <thead>\n",
              "    <tr style=\"text-align: right;\">\n",
              "      <th></th>\n",
              "      <th>name</th>\n",
              "      <th>latitude</th>\n",
              "      <th>longitude</th>\n",
              "      <th>address</th>\n",
              "      <th>phone</th>\n",
              "      <th>website</th>\n",
              "    </tr>\n",
              "  </thead>\n",
              "  <tbody>\n",
              "    <tr>\n",
              "      <th>0</th>\n",
              "      <td>Alabaster</td>\n",
              "      <td>33.224225</td>\n",
              "      <td>-86.804174</td>\n",
              "      <td>250 S Colonial Dr, Alabaster, AL 35007-4657</td>\n",
              "      <td>205-564-2608</td>\n",
              "      <td>https://www.target.com/sl/alabaster/2276</td>\n",
              "    </tr>\n",
              "    <tr>\n",
              "      <th>1</th>\n",
              "      <td>Bessemer</td>\n",
              "      <td>33.334550</td>\n",
              "      <td>-86.989778</td>\n",
              "      <td>4889 Promenade Pkwy, Bessemer, AL 35022-7305</td>\n",
              "      <td>205-565-3760</td>\n",
              "      <td>https://www.target.com/sl/bessemer/2375</td>\n",
              "    </tr>\n",
              "    <tr>\n",
              "      <th>2</th>\n",
              "      <td>Daphne</td>\n",
              "      <td>30.602875</td>\n",
              "      <td>-87.895932</td>\n",
              "      <td>1698 US Highway 98, Daphne, AL 36526-4252</td>\n",
              "      <td>251-621-3540</td>\n",
              "      <td>https://www.target.com/sl/daphne/1274</td>\n",
              "    </tr>\n",
              "    <tr>\n",
              "      <th>3</th>\n",
              "      <td>Decatur</td>\n",
              "      <td>34.560148</td>\n",
              "      <td>-86.971559</td>\n",
              "      <td>1235 Point Mallard Pkwy SE, Decatur, AL 35601-...</td>\n",
              "      <td>256-898-3036</td>\n",
              "      <td>https://www.target.com/sl/decatur/2084</td>\n",
              "    </tr>\n",
              "    <tr>\n",
              "      <th>4</th>\n",
              "      <td>Dothan</td>\n",
              "      <td>31.266061</td>\n",
              "      <td>-85.446422</td>\n",
              "      <td>4601 Montgomery Hwy, Dothan, AL 36303-1522</td>\n",
              "      <td>334-340-1112</td>\n",
              "      <td>https://www.target.com/sl/dothan/1468</td>\n",
              "    </tr>\n",
              "  </tbody>\n",
              "</table>\n",
              "</div>\n",
              "      <button class=\"colab-df-convert\" onclick=\"convertToInteractive('df-59dcc0b9-f695-4677-9286-15d94115b74c')\"\n",
              "              title=\"Convert this dataframe to an interactive table.\"\n",
              "              style=\"display:none;\">\n",
              "        \n",
              "  <svg xmlns=\"http://www.w3.org/2000/svg\" height=\"24px\"viewBox=\"0 0 24 24\"\n",
              "       width=\"24px\">\n",
              "    <path d=\"M0 0h24v24H0V0z\" fill=\"none\"/>\n",
              "    <path d=\"M18.56 5.44l.94 2.06.94-2.06 2.06-.94-2.06-.94-.94-2.06-.94 2.06-2.06.94zm-11 1L8.5 8.5l.94-2.06 2.06-.94-2.06-.94L8.5 2.5l-.94 2.06-2.06.94zm10 10l.94 2.06.94-2.06 2.06-.94-2.06-.94-.94-2.06-.94 2.06-2.06.94z\"/><path d=\"M17.41 7.96l-1.37-1.37c-.4-.4-.92-.59-1.43-.59-.52 0-1.04.2-1.43.59L10.3 9.45l-7.72 7.72c-.78.78-.78 2.05 0 2.83L4 21.41c.39.39.9.59 1.41.59.51 0 1.02-.2 1.41-.59l7.78-7.78 2.81-2.81c.8-.78.8-2.07 0-2.86zM5.41 20L4 18.59l7.72-7.72 1.47 1.35L5.41 20z\"/>\n",
              "  </svg>\n",
              "      </button>\n",
              "      \n",
              "  <style>\n",
              "    .colab-df-container {\n",
              "      display:flex;\n",
              "      flex-wrap:wrap;\n",
              "      gap: 12px;\n",
              "    }\n",
              "\n",
              "    .colab-df-convert {\n",
              "      background-color: #E8F0FE;\n",
              "      border: none;\n",
              "      border-radius: 50%;\n",
              "      cursor: pointer;\n",
              "      display: none;\n",
              "      fill: #1967D2;\n",
              "      height: 32px;\n",
              "      padding: 0 0 0 0;\n",
              "      width: 32px;\n",
              "    }\n",
              "\n",
              "    .colab-df-convert:hover {\n",
              "      background-color: #E2EBFA;\n",
              "      box-shadow: 0px 1px 2px rgba(60, 64, 67, 0.3), 0px 1px 3px 1px rgba(60, 64, 67, 0.15);\n",
              "      fill: #174EA6;\n",
              "    }\n",
              "\n",
              "    [theme=dark] .colab-df-convert {\n",
              "      background-color: #3B4455;\n",
              "      fill: #D2E3FC;\n",
              "    }\n",
              "\n",
              "    [theme=dark] .colab-df-convert:hover {\n",
              "      background-color: #434B5C;\n",
              "      box-shadow: 0px 1px 3px 1px rgba(0, 0, 0, 0.15);\n",
              "      filter: drop-shadow(0px 1px 2px rgba(0, 0, 0, 0.3));\n",
              "      fill: #FFFFFF;\n",
              "    }\n",
              "  </style>\n",
              "\n",
              "      <script>\n",
              "        const buttonEl =\n",
              "          document.querySelector('#df-59dcc0b9-f695-4677-9286-15d94115b74c button.colab-df-convert');\n",
              "        buttonEl.style.display =\n",
              "          google.colab.kernel.accessAllowed ? 'block' : 'none';\n",
              "\n",
              "        async function convertToInteractive(key) {\n",
              "          const element = document.querySelector('#df-59dcc0b9-f695-4677-9286-15d94115b74c');\n",
              "          const dataTable =\n",
              "            await google.colab.kernel.invokeFunction('convertToInteractive',\n",
              "                                                     [key], {});\n",
              "          if (!dataTable) return;\n",
              "\n",
              "          const docLinkHtml = 'Like what you see? Visit the ' +\n",
              "            '<a target=\"_blank\" href=https://colab.research.google.com/notebooks/data_table.ipynb>data table notebook</a>'\n",
              "            + ' to learn more about interactive tables.';\n",
              "          element.innerHTML = '';\n",
              "          dataTable['output_type'] = 'display_data';\n",
              "          await google.colab.output.renderOutput(dataTable, element);\n",
              "          const docLink = document.createElement('div');\n",
              "          docLink.innerHTML = docLinkHtml;\n",
              "          element.appendChild(docLink);\n",
              "        }\n",
              "      </script>\n",
              "    </div>\n",
              "  </div>\n",
              "  "
            ]
          },
          "metadata": {},
          "execution_count": 4
        }
      ]
    },
    {
      "cell_type": "code",
      "source": [
        "df.info()"
      ],
      "metadata": {
        "colab": {
          "base_uri": "https://localhost:8080/"
        },
        "id": "MxbhdLkavl7Q",
        "outputId": "fe5b5701-e062-45e7-817f-023e9a3493b6"
      },
      "execution_count": 5,
      "outputs": [
        {
          "output_type": "stream",
          "name": "stdout",
          "text": [
            "<class 'pandas.core.frame.DataFrame'>\n",
            "RangeIndex: 1839 entries, 0 to 1838\n",
            "Data columns (total 6 columns):\n",
            " #   Column     Non-Null Count  Dtype  \n",
            "---  ------     --------------  -----  \n",
            " 0   name       1839 non-null   object \n",
            " 1   latitude   1839 non-null   float64\n",
            " 2   longitude  1839 non-null   float64\n",
            " 3   address    1839 non-null   object \n",
            " 4   phone      1839 non-null   object \n",
            " 5   website    1839 non-null   object \n",
            "dtypes: float64(2), object(4)\n",
            "memory usage: 86.3+ KB\n"
          ]
        }
      ]
    },
    {
      "cell_type": "markdown",
      "source": [
        "**Definición de Latitud y Longitud**\n",
        "\n",
        "**Latitud** Es la distancia en grados, minutos y segundos que hay con respecto al paralelo principal, que es el ecuador (0º). La latitud puede ser norte y sur.\n",
        "\n",
        "**Longitud**: Es la distancia en grados, minutos y segundos que hay con respecto al meridiano principal, que es el meridiano de Greenwich (0º).La longitud puede ser este y oeste."
      ],
      "metadata": {
        "id": "cpfqKT4qxAZz"
      }
    },
    {
      "cell_type": "code",
      "source": [
        "latlong=df[[\"latitude\",\"longitude\"]]"
      ],
      "metadata": {
        "id": "oPzX3DGju0As"
      },
      "execution_count": 6,
      "outputs": []
    },
    {
      "cell_type": "code",
      "source": [],
      "metadata": {
        "id": "n4QKgxn4e6V0"
      },
      "execution_count": 6,
      "outputs": []
    },
    {
      "cell_type": "markdown",
      "source": [
        "¡Visualizemos los datos!, para empezar a notar algún patron. \n",
        "\n",
        "A simple vista pudieramos pensar que tenemos algunos datos atípicos u outliers, pero .... no es así, simplemente esta grafica no nos está dando toda la información."
      ],
      "metadata": {
        "id": "gMk6UVE2e67y"
      }
    },
    {
      "cell_type": "code",
      "source": [
        "#extrae los datos interesantes\n",
        "latlong.plot.scatter( \"longitude\",\"latitude\")"
      ],
      "metadata": {
        "colab": {
          "base_uri": "https://localhost:8080/",
          "height": 296
        },
        "id": "-QZRqKiDfj2J",
        "outputId": "a5d1c9e5-9a42-4680-f62f-084d71599bc1"
      },
      "execution_count": 7,
      "outputs": [
        {
          "output_type": "execute_result",
          "data": {
            "text/plain": [
              "<matplotlib.axes._subplots.AxesSubplot at 0x7f9bbb12cc50>"
            ]
          },
          "metadata": {},
          "execution_count": 7
        },
        {
          "output_type": "display_data",
          "data": {
            "text/plain": [
              "<Figure size 432x288 with 1 Axes>"
            ],
            "image/png": "[encoded data removed]"
          },
          "metadata": {
            "needs_background": "light"
          }
        }
      ]
    },
    {
      "cell_type": "code",
      "source": [
        "latlong.describe()"
      ],
      "metadata": {
        "colab": {
          "base_uri": "https://localhost:8080/",
          "height": 300
        },
        "id": "O6b3QguyyjM_",
        "outputId": "7de0a93c-d4d9-45af-b14a-1eb1c3713837"
      },
      "execution_count": 9,
      "outputs": [
        {
          "output_type": "execute_result",
          "data": {
            "text/plain": [
              "          latitude    longitude\n",
              "count  1839.000000  1839.000000\n",
              "mean     37.791238   -91.986881\n",
              "std       5.272299    16.108046\n",
              "min      19.647855  -159.376962\n",
              "25%      33.882605   -98.268828\n",
              "50%      38.955432   -87.746346\n",
              "75%      41.658341   -80.084833\n",
              "max      61.577919   -68.742331"
            ],
            "text/html": [
              "\n",
              "  <div id=\"df-56ecb725-5861-4d34-bb53-abea338e1c55\">\n",
              "    <div class=\"colab-df-container\">\n",
              "      <div>\n",
              "<style scoped>\n",
              "    .dataframe tbody tr th:only-of-type {\n",
              "        vertical-align: middle;\n",
              "    }\n",
              "\n",
              "    .dataframe tbody tr th {\n",
              "        vertical-align: top;\n",
              "    }\n",
              "\n",
              "    .dataframe thead th {\n",
              "        text-align: right;\n",
              "    }\n",
              "</style>\n",
              "<table border=\"1\" class=\"dataframe\">\n",
              "  <thead>\n",
              "    <tr style=\"text-align: right;\">\n",
              "      <th></th>\n",
              "      <th>latitude</th>\n",
              "      <th>longitude</th>\n",
              "    </tr>\n",
              "  </thead>\n",
              "  <tbody>\n",
              "    <tr>\n",
              "      <th>count</th>\n",
              "      <td>1839.000000</td>\n",
              "      <td>1839.000000</td>\n",
              "    </tr>\n",
              "    <tr>\n",
              "      <th>mean</th>\n",
              "      <td>37.791238</td>\n",
              "      <td>-91.986881</td>\n",
              "    </tr>\n",
              "    <tr>\n",
              "      <th>std</th>\n",
              "      <td>5.272299</td>\n",
              "      <td>16.108046</td>\n",
              "    </tr>\n",
              "    <tr>\n",
              "      <th>min</th>\n",
              "      <td>19.647855</td>\n",
              "      <td>-159.376962</td>\n",
              "    </tr>\n",
              "    <tr>\n",
              "      <th>25%</th>\n",
              "      <td>33.882605</td>\n",
              "      <td>-98.268828</td>\n",
              "    </tr>\n",
              "    <tr>\n",
              "      <th>50%</th>\n",
              "      <td>38.955432</td>\n",
              "      <td>-87.746346</td>\n",
              "    </tr>\n",
              "    <tr>\n",
              "      <th>75%</th>\n",
              "      <td>41.658341</td>\n",
              "      <td>-80.084833</td>\n",
              "    </tr>\n",
              "    <tr>\n",
              "      <th>max</th>\n",
              "      <td>61.577919</td>\n",
              "      <td>-68.742331</td>\n",
              "    </tr>\n",
              "  </tbody>\n",
              "</table>\n",
              "</div>\n",
              "      <button class=\"colab-df-convert\" onclick=\"convertToInteractive('df-56ecb725-5861-4d34-bb53-abea338e1c55')\"\n",
              "              title=\"Convert this dataframe to an interactive table.\"\n",
              "              style=\"display:none;\">\n",
              "        \n",
              "  <svg xmlns=\"http://www.w3.org/2000/svg\" height=\"24px\"viewBox=\"0 0 24 24\"\n",
              "       width=\"24px\">\n",
              "    <path d=\"M0 0h24v24H0V0z\" fill=\"none\"/>\n",
              "    <path d=\"M18.56 5.44l.94 2.06.94-2.06 2.06-.94-2.06-.94-.94-2.06-.94 2.06-2.06.94zm-11 1L8.5 8.5l.94-2.06 2.06-.94-2.06-.94L8.5 2.5l-.94 2.06-2.06.94zm10 10l.94 2.06.94-2.06 2.06-.94-2.06-.94-.94-2.06-.94 2.06-2.06.94z\"/><path d=\"M17.41 7.96l-1.37-1.37c-.4-.4-.92-.59-1.43-.59-.52 0-1.04.2-1.43.59L10.3 9.45l-7.72 7.72c-.78.78-.78 2.05 0 2.83L4 21.41c.39.39.9.59 1.41.59.51 0 1.02-.2 1.41-.59l7.78-7.78 2.81-2.81c.8-.78.8-2.07 0-2.86zM5.41 20L4 18.59l7.72-7.72 1.47 1.35L5.41 20z\"/>\n",
              "  </svg>\n",
              "      </button>\n",
              "      \n",
              "  <style>\n",
              "    .colab-df-container {\n",
              "      display:flex;\n",
              "      flex-wrap:wrap;\n",
              "      gap: 12px;\n",
              "    }\n",
              "\n",
              "    .colab-df-convert {\n",
              "      background-color: #E8F0FE;\n",
              "      border: none;\n",
              "      border-radius: 50%;\n",
              "      cursor: pointer;\n",
              "      display: none;\n",
              "      fill: #1967D2;\n",
              "      height: 32px;\n",
              "      padding: 0 0 0 0;\n",
              "      width: 32px;\n",
              "    }\n",
              "\n",
              "    .colab-df-convert:hover {\n",
              "      background-color: #E2EBFA;\n",
              "      box-shadow: 0px 1px 2px rgba(60, 64, 67, 0.3), 0px 1px 3px 1px rgba(60, 64, 67, 0.15);\n",
              "      fill: #174EA6;\n",
              "    }\n",
              "\n",
              "    [theme=dark] .colab-df-convert {\n",
              "      background-color: #3B4455;\n",
              "      fill: #D2E3FC;\n",
              "    }\n",
              "\n",
              "    [theme=dark] .colab-df-convert:hover {\n",
              "      background-color: #434B5C;\n",
              "      box-shadow: 0px 1px 3px 1px rgba(0, 0, 0, 0.15);\n",
              "      filter: drop-shadow(0px 1px 2px rgba(0, 0, 0, 0.3));\n",
              "      fill: #FFFFFF;\n",
              "    }\n",
              "  </style>\n",
              "\n",
              "      <script>\n",
              "        const buttonEl =\n",
              "          document.querySelector('#df-56ecb725-5861-4d34-bb53-abea338e1c55 button.colab-df-convert');\n",
              "        buttonEl.style.display =\n",
              "          google.colab.kernel.accessAllowed ? 'block' : 'none';\n",
              "\n",
              "        async function convertToInteractive(key) {\n",
              "          const element = document.querySelector('#df-56ecb725-5861-4d34-bb53-abea338e1c55');\n",
              "          const dataTable =\n",
              "            await google.colab.kernel.invokeFunction('convertToInteractive',\n",
              "                                                     [key], {});\n",
              "          if (!dataTable) return;\n",
              "\n",
              "          const docLinkHtml = 'Like what you see? Visit the ' +\n",
              "            '<a target=\"_blank\" href=https://colab.research.google.com/notebooks/data_table.ipynb>data table notebook</a>'\n",
              "            + ' to learn more about interactive tables.';\n",
              "          element.innerHTML = '';\n",
              "          dataTable['output_type'] = 'display_data';\n",
              "          await google.colab.output.renderOutput(dataTable, element);\n",
              "          const docLink = document.createElement('div');\n",
              "          docLink.innerHTML = docLinkHtml;\n",
              "          element.appendChild(docLink);\n",
              "        }\n",
              "      </script>\n",
              "    </div>\n",
              "  </div>\n",
              "  "
            ]
          },
          "metadata": {},
          "execution_count": 9
        }
      ]
    },
    {
      "cell_type": "markdown",
      "source": [
        "Para entender un poco más, nos auxiliaremos de una librería para graficar datos geográficos. Esto nos ayudara a tener un mejor entendimiento de ellos.\n",
        "\n",
        "\n"
      ],
      "metadata": {
        "id": "hkPMyAyIDunz"
      }
    },
    {
      "cell_type": "code",
      "source": [
        "import geopandas as gpd\n",
        "import matplotlib.pyplot as plt\n",
        "import pandas as pd\n",
        "\n",
        "from shapely.geometry import Point\n",
        "\n",
        "%matplotlib inline\n",
        "# activate plot theme\n",
        "import qeds\n",
        "qeds.themes.mpl_style();"
      ],
      "metadata": {
        "id": "_blyM4esyJTu"
      },
      "execution_count": 10,
      "outputs": []
    },
    {
      "cell_type": "code",
      "source": [
        "df[\"Coordinates\"] = list(zip(df.longitude, df.latitude))\n",
        "df[\"Coordinates\"] = df[\"Coordinates\"].apply(Point)\n",
        "df.head()"
      ],
      "metadata": {
        "colab": {
          "base_uri": "https://localhost:8080/",
          "height": 206
        },
        "id": "01i0TciKfPco",
        "outputId": "169434c8-c998-4ba3-97c6-8c15cc5ba71f"
      },
      "execution_count": 11,
      "outputs": [
        {
          "output_type": "execute_result",
          "data": {
            "text/plain": [
              "        name   latitude  longitude  \\\n",
              "0  Alabaster  33.224225 -86.804174   \n",
              "1   Bessemer  33.334550 -86.989778   \n",
              "2     Daphne  30.602875 -87.895932   \n",
              "3    Decatur  34.560148 -86.971559   \n",
              "4     Dothan  31.266061 -85.446422   \n",
              "\n",
              "                                             address         phone  \\\n",
              "0        250 S Colonial Dr, Alabaster, AL 35007-4657  205-564-2608   \n",
              "1       4889 Promenade Pkwy, Bessemer, AL 35022-7305  205-565-3760   \n",
              "2          1698 US Highway 98, Daphne, AL 36526-4252  251-621-3540   \n",
              "3  1235 Point Mallard Pkwy SE, Decatur, AL 35601-...  256-898-3036   \n",
              "4         4601 Montgomery Hwy, Dothan, AL 36303-1522  334-340-1112   \n",
              "\n",
              "                                    website  \\\n",
              "0  https://www.target.com/sl/alabaster/2276   \n",
              "1   https://www.target.com/sl/bessemer/2375   \n",
              "2     https://www.target.com/sl/daphne/1274   \n",
              "3    https://www.target.com/sl/decatur/2084   \n",
              "4     https://www.target.com/sl/dothan/1468   \n",
              "\n",
              "                             Coordinates  \n",
              "0  POINT (-86.80417369999999 33.2242254)  \n",
              "1  POINT (-86.98977789999999 33.3345501)  \n",
              "2  POINT (-87.89593169999999 30.6028747)  \n",
              "3         POINT (-86.9715595 34.5601477)  \n",
              "4         POINT (-85.4464222 31.2660613)  "
            ],
            "text/html": [
              "\n",
              "  <div id=\"df-bd6274d9-c2c0-42de-82eb-01790ba144f1\">\n",
              "    <div class=\"colab-df-container\">\n",
              "      <div>\n",
              "<style scoped>\n",
              "    .dataframe tbody tr th:only-of-type {\n",
              "        vertical-align: middle;\n",
              "    }\n",
              "\n",
              "    .dataframe tbody tr th {\n",
              "        vertical-align: top;\n",
              "    }\n",
              "\n",
              "    .dataframe thead th {\n",
              "        text-align: right;\n",
              "    }\n",
              "</style>\n",
              "<table border=\"1\" class=\"dataframe\">\n",
              "  <thead>\n",
              "    <tr style=\"text-align: right;\">\n",
              "      <th></th>\n",
              "      <th>name</th>\n",
              "      <th>latitude</th>\n",
              "      <th>longitude</th>\n",
              "      <th>address</th>\n",
              "      <th>phone</th>\n",
              "      <th>website</th>\n",
              "      <th>Coordinates</th>\n",
              "    </tr>\n",
              "  </thead>\n",
              "  <tbody>\n",
              "    <tr>\n",
              "      <th>0</th>\n",
              "      <td>Alabaster</td>\n",
              "      <td>33.224225</td>\n",
              "      <td>-86.804174</td>\n",
              "      <td>250 S Colonial Dr, Alabaster, AL 35007-4657</td>\n",
              "      <td>205-564-2608</td>\n",
              "      <td>https://www.target.com/sl/alabaster/2276</td>\n",
              "      <td>POINT (-86.80417369999999 33.2242254)</td>\n",
              "    </tr>\n",
              "    <tr>\n",
              "      <th>1</th>\n",
              "      <td>Bessemer</td>\n",
              "      <td>33.334550</td>\n",
              "      <td>-86.989778</td>\n",
              "      <td>4889 Promenade Pkwy, Bessemer, AL 35022-7305</td>\n",
              "      <td>205-565-3760</td>\n",
              "      <td>https://www.target.com/sl/bessemer/2375</td>\n",
              "      <td>POINT (-86.98977789999999 33.3345501)</td>\n",
              "    </tr>\n",
              "    <tr>\n",
              "      <th>2</th>\n",
              "      <td>Daphne</td>\n",
              "      <td>30.602875</td>\n",
              "      <td>-87.895932</td>\n",
              "      <td>1698 US Highway 98, Daphne, AL 36526-4252</td>\n",
              "      <td>251-621-3540</td>\n",
              "      <td>https://www.target.com/sl/daphne/1274</td>\n",
              "      <td>POINT (-87.89593169999999 30.6028747)</td>\n",
              "    </tr>\n",
              "    <tr>\n",
              "      <th>3</th>\n",
              "      <td>Decatur</td>\n",
              "      <td>34.560148</td>\n",
              "      <td>-86.971559</td>\n",
              "      <td>1235 Point Mallard Pkwy SE, Decatur, AL 35601-...</td>\n",
              "      <td>256-898-3036</td>\n",
              "      <td>https://www.target.com/sl/decatur/2084</td>\n",
              "      <td>POINT (-86.9715595 34.5601477)</td>\n",
              "    </tr>\n",
              "    <tr>\n",
              "      <th>4</th>\n",
              "      <td>Dothan</td>\n",
              "      <td>31.266061</td>\n",
              "      <td>-85.446422</td>\n",
              "      <td>4601 Montgomery Hwy, Dothan, AL 36303-1522</td>\n",
              "      <td>334-340-1112</td>\n",
              "      <td>https://www.target.com/sl/dothan/1468</td>\n",
              "      <td>POINT (-85.4464222 31.2660613)</td>\n",
              "    </tr>\n",
              "  </tbody>\n",
              "</table>\n",
              "</div>\n",
              "      <button class=\"colab-df-convert\" onclick=\"convertToInteractive('df-bd6274d9-c2c0-42de-82eb-01790ba144f1')\"\n",
              "              title=\"Convert this dataframe to an interactive table.\"\n",
              "              style=\"display:none;\">\n",
              "        \n",
              "  <svg xmlns=\"http://www.w3.org/2000/svg\" height=\"24px\"viewBox=\"0 0 24 24\"\n",
              "       width=\"24px\">\n",
              "    <path d=\"M0 0h24v24H0V0z\" fill=\"none\"/>\n",
              "    <path d=\"M18.56 5.44l.94 2.06.94-2.06 2.06-.94-2.06-.94-.94-2.06-.94 2.06-2.06.94zm-11 1L8.5 8.5l.94-2.06 2.06-.94-2.06-.94L8.5 2.5l-.94 2.06-2.06.94zm10 10l.94 2.06.94-2.06 2.06-.94-2.06-.94-.94-2.06-.94 2.06-2.06.94z\"/><path d=\"M17.41 7.96l-1.37-1.37c-.4-.4-.92-.59-1.43-.59-.52 0-1.04.2-1.43.59L10.3 9.45l-7.72 7.72c-.78.78-.78 2.05 0 2.83L4 21.41c.39.39.9.59 1.41.59.51 0 1.02-.2 1.41-.59l7.78-7.78 2.81-2.81c.8-.78.8-2.07 0-2.86zM5.41 20L4 18.59l7.72-7.72 1.47 1.35L5.41 20z\"/>\n",
              "  </svg>\n",
              "      </button>\n",
              "      \n",
              "  <style>\n",
              "    .colab-df-container {\n",
              "      display:flex;\n",
              "      flex-wrap:wrap;\n",
              "      gap: 12px;\n",
              "    }\n",
              "\n",
              "    .colab-df-convert {\n",
              "      background-color: #E8F0FE;\n",
              "      border: none;\n",
              "      border-radius: 50%;\n",
              "      cursor: pointer;\n",
              "      display: none;\n",
              "      fill: #1967D2;\n",
              "      height: 32px;\n",
              "      padding: 0 0 0 0;\n",
              "      width: 32px;\n",
              "    }\n",
              "\n",
              "    .colab-df-convert:hover {\n",
              "      background-color: #E2EBFA;\n",
              "      box-shadow: 0px 1px 2px rgba(60, 64, 67, 0.3), 0px 1px 3px 1px rgba(60, 64, 67, 0.15);\n",
              "      fill: #174EA6;\n",
              "    }\n",
              "\n",
              "    [theme=dark] .colab-df-convert {\n",
              "      background-color: #3B4455;\n",
              "      fill: #D2E3FC;\n",
              "    }\n",
              "\n",
              "    [theme=dark] .colab-df-convert:hover {\n",
              "      background-color: #434B5C;\n",
              "      box-shadow: 0px 1px 3px 1px rgba(0, 0, 0, 0.15);\n",
              "      filter: drop-shadow(0px 1px 2px rgba(0, 0, 0, 0.3));\n",
              "      fill: #FFFFFF;\n",
              "    }\n",
              "  </style>\n",
              "\n",
              "      <script>\n",
              "        const buttonEl =\n",
              "          document.querySelector('#df-bd6274d9-c2c0-42de-82eb-01790ba144f1 button.colab-df-convert');\n",
              "        buttonEl.style.display =\n",
              "          google.colab.kernel.accessAllowed ? 'block' : 'none';\n",
              "\n",
              "        async function convertToInteractive(key) {\n",
              "          const element = document.querySelector('#df-bd6274d9-c2c0-42de-82eb-01790ba144f1');\n",
              "          const dataTable =\n",
              "            await google.colab.kernel.invokeFunction('convertToInteractive',\n",
              "                                                     [key], {});\n",
              "          if (!dataTable) return;\n",
              "\n",
              "          const docLinkHtml = 'Like what you see? Visit the ' +\n",
              "            '<a target=\"_blank\" href=https://colab.research.google.com/notebooks/data_table.ipynb>data table notebook</a>'\n",
              "            + ' to learn more about interactive tables.';\n",
              "          element.innerHTML = '';\n",
              "          dataTable['output_type'] = 'display_data';\n",
              "          await google.colab.output.renderOutput(dataTable, element);\n",
              "          const docLink = document.createElement('div');\n",
              "          docLink.innerHTML = docLinkHtml;\n",
              "          element.appendChild(docLink);\n",
              "        }\n",
              "      </script>\n",
              "    </div>\n",
              "  </div>\n",
              "  "
            ]
          },
          "metadata": {},
          "execution_count": 11
        }
      ]
    },
    {
      "cell_type": "code",
      "source": [
        "gdf = gpd.GeoDataFrame(df, geometry=\"Coordinates\")\n",
        "gdf.head()"
      ],
      "metadata": {
        "colab": {
          "base_uri": "https://localhost:8080/",
          "height": 206
        },
        "id": "SBTBrsvlfIU_",
        "outputId": "3fc32c21-0753-4032-c6a9-b0a62f6414b0"
      },
      "execution_count": 12,
      "outputs": [
        {
          "output_type": "execute_result",
          "data": {
            "text/plain": [
              "        name   latitude  longitude  \\\n",
              "0  Alabaster  33.224225 -86.804174   \n",
              "1   Bessemer  33.334550 -86.989778   \n",
              "2     Daphne  30.602875 -87.895932   \n",
              "3    Decatur  34.560148 -86.971559   \n",
              "4     Dothan  31.266061 -85.446422   \n",
              "\n",
              "                                             address         phone  \\\n",
              "0        250 S Colonial Dr, Alabaster, AL 35007-4657  205-564-2608   \n",
              "1       4889 Promenade Pkwy, Bessemer, AL 35022-7305  205-565-3760   \n",
              "2          1698 US Highway 98, Daphne, AL 36526-4252  251-621-3540   \n",
              "3  1235 Point Mallard Pkwy SE, Decatur, AL 35601-...  256-898-3036   \n",
              "4         4601 Montgomery Hwy, Dothan, AL 36303-1522  334-340-1112   \n",
              "\n",
              "                                    website                 Coordinates  \n",
              "0  https://www.target.com/sl/alabaster/2276  POINT (-86.80417 33.22423)  \n",
              "1   https://www.target.com/sl/bessemer/2375  POINT (-86.98978 33.33455)  \n",
              "2     https://www.target.com/sl/daphne/1274  POINT (-87.89593 30.60287)  \n",
              "3    https://www.target.com/sl/decatur/2084  POINT (-86.97156 34.56015)  \n",
              "4     https://www.target.com/sl/dothan/1468  POINT (-85.44642 31.26606)  "
            ],
            "text/html": [
              "\n",
              "  <div id=\"df-088e6505-2ab9-474e-9ec9-ddfc2e0b3fab\">\n",
              "    <div class=\"colab-df-container\">\n",
              "      <div>\n",
              "<style scoped>\n",
              "    .dataframe tbody tr th:only-of-type {\n",
              "        vertical-align: middle;\n",
              "    }\n",
              "\n",
              "    .dataframe tbody tr th {\n",
              "        vertical-align: top;\n",
              "    }\n",
              "\n",
              "    .dataframe thead th {\n",
              "        text-align: right;\n",
              "    }\n",
              "</style>\n",
              "<table border=\"1\" class=\"dataframe\">\n",
              "  <thead>\n",
              "    <tr style=\"text-align: right;\">\n",
              "      <th></th>\n",
              "      <th>name</th>\n",
              "      <th>latitude</th>\n",
              "      <th>longitude</th>\n",
              "      <th>address</th>\n",
              "      <th>phone</th>\n",
              "      <th>website</th>\n",
              "      <th>Coordinates</th>\n",
              "    </tr>\n",
              "  </thead>\n",
              "  <tbody>\n",
              "    <tr>\n",
              "      <th>0</th>\n",
              "      <td>Alabaster</td>\n",
              "      <td>33.224225</td>\n",
              "      <td>-86.804174</td>\n",
              "      <td>250 S Colonial Dr, Alabaster, AL 35007-4657</td>\n",
              "      <td>205-564-2608</td>\n",
              "      <td>https://www.target.com/sl/alabaster/2276</td>\n",
              "      <td>POINT (-86.80417 33.22423)</td>\n",
              "    </tr>\n",
              "    <tr>\n",
              "      <th>1</th>\n",
              "      <td>Bessemer</td>\n",
              "      <td>33.334550</td>\n",
              "      <td>-86.989778</td>\n",
              "      <td>4889 Promenade Pkwy, Bessemer, AL 35022-7305</td>\n",
              "      <td>205-565-3760</td>\n",
              "      <td>https://www.target.com/sl/bessemer/2375</td>\n",
              "      <td>POINT (-86.98978 33.33455)</td>\n",
              "    </tr>\n",
              "    <tr>\n",
              "      <th>2</th>\n",
              "      <td>Daphne</td>\n",
              "      <td>30.602875</td>\n",
              "      <td>-87.895932</td>\n",
              "      <td>1698 US Highway 98, Daphne, AL 36526-4252</td>\n",
              "      <td>251-621-3540</td>\n",
              "      <td>https://www.target.com/sl/daphne/1274</td>\n",
              "      <td>POINT (-87.89593 30.60287)</td>\n",
              "    </tr>\n",
              "    <tr>\n",
              "      <th>3</th>\n",
              "      <td>Decatur</td>\n",
              "      <td>34.560148</td>\n",
              "      <td>-86.971559</td>\n",
              "      <td>1235 Point Mallard Pkwy SE, Decatur, AL 35601-...</td>\n",
              "      <td>256-898-3036</td>\n",
              "      <td>https://www.target.com/sl/decatur/2084</td>\n",
              "      <td>POINT (-86.97156 34.56015)</td>\n",
              "    </tr>\n",
              "    <tr>\n",
              "      <th>4</th>\n",
              "      <td>Dothan</td>\n",
              "      <td>31.266061</td>\n",
              "      <td>-85.446422</td>\n",
              "      <td>4601 Montgomery Hwy, Dothan, AL 36303-1522</td>\n",
              "      <td>334-340-1112</td>\n",
              "      <td>https://www.target.com/sl/dothan/1468</td>\n",
              "      <td>POINT (-85.44642 31.26606)</td>\n",
              "    </tr>\n",
              "  </tbody>\n",
              "</table>\n",
              "</div>\n",
              "      <button class=\"colab-df-convert\" onclick=\"convertToInteractive('df-088e6505-2ab9-474e-9ec9-ddfc2e0b3fab')\"\n",
              "              title=\"Convert this dataframe to an interactive table.\"\n",
              "              style=\"display:none;\">\n",
              "        \n",
              "  <svg xmlns=\"http://www.w3.org/2000/svg\" height=\"24px\"viewBox=\"0 0 24 24\"\n",
              "       width=\"24px\">\n",
              "    <path d=\"M0 0h24v24H0V0z\" fill=\"none\"/>\n",
              "    <path d=\"M18.56 5.44l.94 2.06.94-2.06 2.06-.94-2.06-.94-.94-2.06-.94 2.06-2.06.94zm-11 1L8.5 8.5l.94-2.06 2.06-.94-2.06-.94L8.5 2.5l-.94 2.06-2.06.94zm10 10l.94 2.06.94-2.06 2.06-.94-2.06-.94-.94-2.06-.94 2.06-2.06.94z\"/><path d=\"M17.41 7.96l-1.37-1.37c-.4-.4-.92-.59-1.43-.59-.52 0-1.04.2-1.43.59L10.3 9.45l-7.72 7.72c-.78.78-.78 2.05 0 2.83L4 21.41c.39.39.9.59 1.41.59.51 0 1.02-.2 1.41-.59l7.78-7.78 2.81-2.81c.8-.78.8-2.07 0-2.86zM5.41 20L4 18.59l7.72-7.72 1.47 1.35L5.41 20z\"/>\n",
              "  </svg>\n",
              "      </button>\n",
              "      \n",
              "  <style>\n",
              "    .colab-df-container {\n",
              "      display:flex;\n",
              "      flex-wrap:wrap;\n",
              "      gap: 12px;\n",
              "    }\n",
              "\n",
              "    .colab-df-convert {\n",
              "      background-color: #E8F0FE;\n",
              "      border: none;\n",
              "      border-radius: 50%;\n",
              "      cursor: pointer;\n",
              "      display: none;\n",
              "      fill: #1967D2;\n",
              "      height: 32px;\n",
              "      padding: 0 0 0 0;\n",
              "      width: 32px;\n",
              "    }\n",
              "\n",
              "    .colab-df-convert:hover {\n",
              "      background-color: #E2EBFA;\n",
              "      box-shadow: 0px 1px 2px rgba(60, 64, 67, 0.3), 0px 1px 3px 1px rgba(60, 64, 67, 0.15);\n",
              "      fill: #174EA6;\n",
              "    }\n",
              "\n",
              "    [theme=dark] .colab-df-convert {\n",
              "      background-color: #3B4455;\n",
              "      fill: #D2E3FC;\n",
              "    }\n",
              "\n",
              "    [theme=dark] .colab-df-convert:hover {\n",
              "      background-color: #434B5C;\n",
              "      box-shadow: 0px 1px 3px 1px rgba(0, 0, 0, 0.15);\n",
              "      filter: drop-shadow(0px 1px 2px rgba(0, 0, 0, 0.3));\n",
              "      fill: #FFFFFF;\n",
              "    }\n",
              "  </style>\n",
              "\n",
              "      <script>\n",
              "        const buttonEl =\n",
              "          document.querySelector('#df-088e6505-2ab9-474e-9ec9-ddfc2e0b3fab button.colab-df-convert');\n",
              "        buttonEl.style.display =\n",
              "          google.colab.kernel.accessAllowed ? 'block' : 'none';\n",
              "\n",
              "        async function convertToInteractive(key) {\n",
              "          const element = document.querySelector('#df-088e6505-2ab9-474e-9ec9-ddfc2e0b3fab');\n",
              "          const dataTable =\n",
              "            await google.colab.kernel.invokeFunction('convertToInteractive',\n",
              "                                                     [key], {});\n",
              "          if (!dataTable) return;\n",
              "\n",
              "          const docLinkHtml = 'Like what you see? Visit the ' +\n",
              "            '<a target=\"_blank\" href=https://colab.research.google.com/notebooks/data_table.ipynb>data table notebook</a>'\n",
              "            + ' to learn more about interactive tables.';\n",
              "          element.innerHTML = '';\n",
              "          dataTable['output_type'] = 'display_data';\n",
              "          await google.colab.output.renderOutput(dataTable, element);\n",
              "          const docLink = document.createElement('div');\n",
              "          docLink.innerHTML = docLinkHtml;\n",
              "          element.appendChild(docLink);\n",
              "        }\n",
              "      </script>\n",
              "    </div>\n",
              "  </div>\n",
              "  "
            ]
          },
          "metadata": {},
          "execution_count": 12
        }
      ]
    },
    {
      "cell_type": "code",
      "source": [
        "#mapa\n",
        "\n",
        "world = gpd.read_file(gpd.datasets.get_path(\"naturalearth_lowres\"))\n",
        "world = world.set_index(\"iso_a3\")\n",
        "\n",
        "world.head()"
      ],
      "metadata": {
        "colab": {
          "base_uri": "https://localhost:8080/",
          "height": 238
        },
        "id": "wB6Jkrvbfef1",
        "outputId": "e992a9a9-47f8-4bb7-cb5d-b8ab9eac9929"
      },
      "execution_count": 13,
      "outputs": [
        {
          "output_type": "execute_result",
          "data": {
            "text/plain": [
              "          pop_est      continent                      name  gdp_md_est  \\\n",
              "iso_a3                                                                   \n",
              "FJI        920938        Oceania                      Fiji      8374.0   \n",
              "TZA      53950935         Africa                  Tanzania    150600.0   \n",
              "ESH        603253         Africa                 W. Sahara       906.5   \n",
              "CAN      35623680  North America                    Canada   1674000.0   \n",
              "USA     326625791  North America  United States of America  18560000.0   \n",
              "\n",
              "                                                 geometry  \n",
              "iso_a3                                                     \n",
              "FJI     MULTIPOLYGON (((180.00000 -16.06713, 180.00000...  \n",
              "TZA     POLYGON ((33.90371 -0.95000, 34.07262 -1.05982...  \n",
              "ESH     POLYGON ((-8.66559 27.65643, -8.66512 27.58948...  \n",
              "CAN     MULTIPOLYGON (((-122.84000 49.00000, -122.9742...  \n",
              "USA     MULTIPOLYGON (((-122.84000 49.00000, -120.0000...  "
            ],
            "text/html": [
              "\n",
              "  <div id=\"df-2fe948f1-924c-43d5-825d-e70863053c29\">\n",
              "    <div class=\"colab-df-container\">\n",
              "      <div>\n",
              "<style scoped>\n",
              "    .dataframe tbody tr th:only-of-type {\n",
              "        vertical-align: middle;\n",
              "    }\n",
              "\n",
              "    .dataframe tbody tr th {\n",
              "        vertical-align: top;\n",
              "    }\n",
              "\n",
              "    .dataframe thead th {\n",
              "        text-align: right;\n",
              "    }\n",
              "</style>\n",
              "<table border=\"1\" class=\"dataframe\">\n",
              "  <thead>\n",
              "    <tr style=\"text-align: right;\">\n",
              "      <th></th>\n",
              "      <th>pop_est</th>\n",
              "      <th>continent</th>\n",
              "      <th>name</th>\n",
              "      <th>gdp_md_est</th>\n",
              "      <th>geometry</th>\n",
              "    </tr>\n",
              "    <tr>\n",
              "      <th>iso_a3</th>\n",
              "      <th></th>\n",
              "      <th></th>\n",
              "      <th></th>\n",
              "      <th></th>\n",
              "      <th></th>\n",
              "    </tr>\n",
              "  </thead>\n",
              "  <tbody>\n",
              "    <tr>\n",
              "      <th>FJI</th>\n",
              "      <td>920938</td>\n",
              "      <td>Oceania</td>\n",
              "      <td>Fiji</td>\n",
              "      <td>8374.0</td>\n",
              "      <td>MULTIPOLYGON (((180.00000 -16.06713, 180.00000...</td>\n",
              "    </tr>\n",
              "    <tr>\n",
              "      <th>TZA</th>\n",
              "      <td>53950935</td>\n",
              "      <td>Africa</td>\n",
              "      <td>Tanzania</td>\n",
              "      <td>150600.0</td>\n",
              "      <td>POLYGON ((33.90371 -0.95000, 34.07262 -1.05982...</td>\n",
              "    </tr>\n",
              "    <tr>\n",
              "      <th>ESH</th>\n",
              "      <td>603253</td>\n",
              "      <td>Africa</td>\n",
              "      <td>W. Sahara</td>\n",
              "      <td>906.5</td>\n",
              "      <td>POLYGON ((-8.66559 27.65643, -8.66512 27.58948...</td>\n",
              "    </tr>\n",
              "    <tr>\n",
              "      <th>CAN</th>\n",
              "      <td>35623680</td>\n",
              "      <td>North America</td>\n",
              "      <td>Canada</td>\n",
              "      <td>1674000.0</td>\n",
              "      <td>MULTIPOLYGON (((-122.84000 49.00000, -122.9742...</td>\n",
              "    </tr>\n",
              "    <tr>\n",
              "      <th>USA</th>\n",
              "      <td>326625791</td>\n",
              "      <td>North America</td>\n",
              "      <td>United States of America</td>\n",
              "      <td>18560000.0</td>\n",
              "      <td>MULTIPOLYGON (((-122.84000 49.00000, -120.0000...</td>\n",
              "    </tr>\n",
              "  </tbody>\n",
              "</table>\n",
              "</div>\n",
              "      <button class=\"colab-df-convert\" onclick=\"convertToInteractive('df-2fe948f1-924c-43d5-825d-e70863053c29')\"\n",
              "              title=\"Convert this dataframe to an interactive table.\"\n",
              "              style=\"display:none;\">\n",
              "        \n",
              "  <svg xmlns=\"http://www.w3.org/2000/svg\" height=\"24px\"viewBox=\"0 0 24 24\"\n",
              "       width=\"24px\">\n",
              "    <path d=\"M0 0h24v24H0V0z\" fill=\"none\"/>\n",
              "    <path d=\"M18.56 5.44l.94 2.06.94-2.06 2.06-.94-2.06-.94-.94-2.06-.94 2.06-2.06.94zm-11 1L8.5 8.5l.94-2.06 2.06-.94-2.06-.94L8.5 2.5l-.94 2.06-2.06.94zm10 10l.94 2.06.94-2.06 2.06-.94-2.06-.94-.94-2.06-.94 2.06-2.06.94z\"/><path d=\"M17.41 7.96l-1.37-1.37c-.4-.4-.92-.59-1.43-.59-.52 0-1.04.2-1.43.59L10.3 9.45l-7.72 7.72c-.78.78-.78 2.05 0 2.83L4 21.41c.39.39.9.59 1.41.59.51 0 1.02-.2 1.41-.59l7.78-7.78 2.81-2.81c.8-.78.8-2.07 0-2.86zM5.41 20L4 18.59l7.72-7.72 1.47 1.35L5.41 20z\"/>\n",
              "  </svg>\n",
              "      </button>\n",
              "      \n",
              "  <style>\n",
              "    .colab-df-container {\n",
              "      display:flex;\n",
              "      flex-wrap:wrap;\n",
              "      gap: 12px;\n",
              "    }\n",
              "\n",
              "    .colab-df-convert {\n",
              "      background-color: #E8F0FE;\n",
              "      border: none;\n",
              "      border-radius: 50%;\n",
              "      cursor: pointer;\n",
              "      display: none;\n",
              "      fill: #1967D2;\n",
              "      height: 32px;\n",
              "      padding: 0 0 0 0;\n",
              "      width: 32px;\n",
              "    }\n",
              "\n",
              "    .colab-df-convert:hover {\n",
              "      background-color: #E2EBFA;\n",
              "      box-shadow: 0px 1px 2px rgba(60, 64, 67, 0.3), 0px 1px 3px 1px rgba(60, 64, 67, 0.15);\n",
              "      fill: #174EA6;\n",
              "    }\n",
              "\n",
              "    [theme=dark] .colab-df-convert {\n",
              "      background-color: #3B4455;\n",
              "      fill: #D2E3FC;\n",
              "    }\n",
              "\n",
              "    [theme=dark] .colab-df-convert:hover {\n",
              "      background-color: #434B5C;\n",
              "      box-shadow: 0px 1px 3px 1px rgba(0, 0, 0, 0.15);\n",
              "      filter: drop-shadow(0px 1px 2px rgba(0, 0, 0, 0.3));\n",
              "      fill: #FFFFFF;\n",
              "    }\n",
              "  </style>\n",
              "\n",
              "      <script>\n",
              "        const buttonEl =\n",
              "          document.querySelector('#df-2fe948f1-924c-43d5-825d-e70863053c29 button.colab-df-convert');\n",
              "        buttonEl.style.display =\n",
              "          google.colab.kernel.accessAllowed ? 'block' : 'none';\n",
              "\n",
              "        async function convertToInteractive(key) {\n",
              "          const element = document.querySelector('#df-2fe948f1-924c-43d5-825d-e70863053c29');\n",
              "          const dataTable =\n",
              "            await google.colab.kernel.invokeFunction('convertToInteractive',\n",
              "                                                     [key], {});\n",
              "          if (!dataTable) return;\n",
              "\n",
              "          const docLinkHtml = 'Like what you see? Visit the ' +\n",
              "            '<a target=\"_blank\" href=https://colab.research.google.com/notebooks/data_table.ipynb>data table notebook</a>'\n",
              "            + ' to learn more about interactive tables.';\n",
              "          element.innerHTML = '';\n",
              "          dataTable['output_type'] = 'display_data';\n",
              "          await google.colab.output.renderOutput(dataTable, element);\n",
              "          const docLink = document.createElement('div');\n",
              "          docLink.innerHTML = docLinkHtml;\n",
              "          element.appendChild(docLink);\n",
              "        }\n",
              "      </script>\n",
              "    </div>\n",
              "  </div>\n",
              "  "
            ]
          },
          "metadata": {},
          "execution_count": 13
        }
      ]
    },
    {
      "cell_type": "code",
      "source": [
        "#graficar el mapa\n",
        "world.name.unique()"
      ],
      "metadata": {
        "colab": {
          "base_uri": "https://localhost:8080/"
        },
        "id": "0qkBCMSUflw_",
        "outputId": "465823e2-1be5-49ba-c8e5-a2df8207ec9a"
      },
      "execution_count": 14,
      "outputs": [
        {
          "output_type": "execute_result",
          "data": {
            "text/plain": [
              "array(['Fiji', 'Tanzania', 'W. Sahara', 'Canada',\n",
              "       'United States of America', 'Kazakhstan', 'Uzbekistan',\n",
              "       'Papua New Guinea', 'Indonesia', 'Argentina', 'Chile',\n",
              "       'Dem. Rep. Congo', 'Somalia', 'Kenya', 'Sudan', 'Chad', 'Haiti',\n",
              "       'Dominican Rep.', 'Russia', 'Bahamas', 'Falkland Is.', 'Norway',\n",
              "       'Greenland', 'Fr. S. Antarctic Lands', 'Timor-Leste',\n",
              "       'South Africa', 'Lesotho', 'Mexico', 'Uruguay', 'Brazil',\n",
              "       'Bolivia', 'Peru', 'Colombia', 'Panama', 'Costa Rica', 'Nicaragua',\n",
              "       'Honduras', 'El Salvador', 'Guatemala', 'Belize', 'Venezuela',\n",
              "       'Guyana', 'Suriname', 'France', 'Ecuador', 'Puerto Rico',\n",
              "       'Jamaica', 'Cuba', 'Zimbabwe', 'Botswana', 'Namibia', 'Senegal',\n",
              "       'Mali', 'Mauritania', 'Benin', 'Niger', 'Nigeria', 'Cameroon',\n",
              "       'Togo', 'Ghana', \"Côte d'Ivoire\", 'Guinea', 'Guinea-Bissau',\n",
              "       'Liberia', 'Sierra Leone', 'Burkina Faso', 'Central African Rep.',\n",
              "       'Congo', 'Gabon', 'Eq. Guinea', 'Zambia', 'Malawi', 'Mozambique',\n",
              "       'eSwatini', 'Angola', 'Burundi', 'Israel', 'Lebanon', 'Madagascar',\n",
              "       'Palestine', 'Gambia', 'Tunisia', 'Algeria', 'Jordan',\n",
              "       'United Arab Emirates', 'Qatar', 'Kuwait', 'Iraq', 'Oman',\n",
              "       'Vanuatu', 'Cambodia', 'Thailand', 'Laos', 'Myanmar', 'Vietnam',\n",
              "       'North Korea', 'South Korea', 'Mongolia', 'India', 'Bangladesh',\n",
              "       'Bhutan', 'Nepal', 'Pakistan', 'Afghanistan', 'Tajikistan',\n",
              "       'Kyrgyzstan', 'Turkmenistan', 'Iran', 'Syria', 'Armenia', 'Sweden',\n",
              "       'Belarus', 'Ukraine', 'Poland', 'Austria', 'Hungary', 'Moldova',\n",
              "       'Romania', 'Lithuania', 'Latvia', 'Estonia', 'Germany', 'Bulgaria',\n",
              "       'Greece', 'Turkey', 'Albania', 'Croatia', 'Switzerland',\n",
              "       'Luxembourg', 'Belgium', 'Netherlands', 'Portugal', 'Spain',\n",
              "       'Ireland', 'New Caledonia', 'Solomon Is.', 'New Zealand',\n",
              "       'Australia', 'Sri Lanka', 'China', 'Taiwan', 'Italy', 'Denmark',\n",
              "       'United Kingdom', 'Iceland', 'Azerbaijan', 'Georgia',\n",
              "       'Philippines', 'Malaysia', 'Brunei', 'Slovenia', 'Finland',\n",
              "       'Slovakia', 'Czechia', 'Eritrea', 'Japan', 'Paraguay', 'Yemen',\n",
              "       'Saudi Arabia', 'Antarctica', 'N. Cyprus', 'Cyprus', 'Morocco',\n",
              "       'Egypt', 'Libya', 'Ethiopia', 'Djibouti', 'Somaliland', 'Uganda',\n",
              "       'Rwanda', 'Bosnia and Herz.', 'Macedonia', 'Serbia', 'Montenegro',\n",
              "       'Kosovo', 'Trinidad and Tobago', 'S. Sudan'], dtype=object)"
            ]
          },
          "metadata": {},
          "execution_count": 14
        }
      ]
    },
    {
      "cell_type": "code",
      "source": [
        "fig, gax = plt.subplots(figsize=(10,10))\n",
        "\n",
        "# By only plotting rows in which the continent is 'South America' we only plot SA.\n",
        "world.query(\"name == 'United States of America'\").plot(ax=gax, edgecolor='black',color='white')\n",
        "\n",
        "# By the way, if you haven't read the book 'longitude' by Dava Sobel, you should...\n",
        "gax.set_xlabel('longitude')\n",
        "gax.set_ylabel('latitude')\n",
        "\n",
        "gax.spines['top'].set_visible(False)\n",
        "gax.spines['right'].set_visible(False)"
      ],
      "metadata": {
        "colab": {
          "base_uri": "https://localhost:8080/",
          "height": 476
        },
        "id": "swDogh7dfusl",
        "outputId": "30a5a5d5-f93b-44d9-cdec-9f5fe07e7083"
      },
      "execution_count": 15,
      "outputs": [
        {
          "output_type": "display_data",
          "data": {
            "text/plain": [
              "<Figure size 720x720 with 1 Axes>"
            ],
            "image/png": "[encoded data removed]"
          },
          "metadata": {}
        }
      ]
    },
    {
      "cell_type": "code",
      "source": [
        "# Step 3: Plot the cities onto the map\n",
        "# We mostly use the code from before --- we still want the country borders plotted --- and we\n",
        "# add a command to plot the cities\n",
        "fig, gax = plt.subplots(figsize=(10,10))\n",
        "\n",
        "# By only plotting rows in which the continent is 'South America' we only plot, well,\n",
        "# South America.\n",
        "world.query(\"name == 'United States of America'\").plot(ax = gax, edgecolor='black', color='white')\n",
        "\n",
        "# This plot the cities. It's the same syntax, but we are plotting from a different GeoDataFrame.\n",
        "# I want the cities as pale red dots.\n",
        "gdf.plot(ax=gax, color='red', alpha = 0.5)\n",
        "\n",
        "gax.set_xlabel('longitude')\n",
        "gax.set_ylabel('latitude')\n",
        "gax.set_title('Target en Estados Unidos')\n",
        "\n",
        "gax.spines['top'].set_visible(False)\n",
        "gax.spines['right'].set_visible(False)\n",
        "\n",
        "plt.show()"
      ],
      "metadata": {
        "colab": {
          "base_uri": "https://localhost:8080/",
          "height": 381
        },
        "id": "OR0ydTOvf_Xp",
        "outputId": "13f0315d-4566-4a38-cdeb-21eaa6146050"
      },
      "execution_count": 16,
      "outputs": [
        {
          "output_type": "display_data",
          "data": {
            "text/plain": [
              "<Figure size 720x720 with 1 Axes>"
            ],
            "image/png": "[encoded data removed]"
          },
          "metadata": {}
        }
      ]
    },
    {
      "cell_type": "markdown",
      "source": [
        "¿qué tal ahora?, tiene mayor sentido verdad, entonces los datos lejanos no eran atípicos, de aquí la importancia de ver los datos con el tipo de gráfica correcta.\n",
        "\n",
        "Ahora sí, implementa K means a los datos de latitud y longitud :) y encuentra donde colocar los almacenes. \n",
        "\n",
        "Nota: si te llama la atención implementar alguna otra visualización con otra librería, lo puedes hacer, no hay restricciones."
      ],
      "metadata": {
        "id": "SMkonhsqfgSf"
      }
    },
    {
      "cell_type": "markdown",
      "source": [
        "**Encuentra las latitudes y longitudes de los almacenes, ¿qué ciudad es?, ¿a cuantas tiendas va surtir?, ¿sabes a que distancia estará?**"
      ],
      "metadata": {
        "id": "ha1Qa0k4rzT4"
      }
    },
    {
      "cell_type": "code",
      "source": [
        "X = df[[\"latitude\",\"longitude\"]]\n",
        "X"
      ],
      "metadata": {
        "colab": {
          "base_uri": "https://localhost:8080/",
          "height": 424
        },
        "id": "oYPQW8Kwr1St",
        "outputId": "fa447e79-7ffa-45e4-badc-c9efd72ad082"
      },
      "execution_count": 17,
      "outputs": [
        {
          "output_type": "execute_result",
          "data": {
            "text/plain": [
              "       latitude   longitude\n",
              "0     33.224225  -86.804174\n",
              "1     33.334550  -86.989778\n",
              "2     30.602875  -87.895932\n",
              "3     34.560148  -86.971559\n",
              "4     31.266061  -85.446422\n",
              "...         ...         ...\n",
              "1834  43.034293  -88.176840\n",
              "1835  42.989604  -88.259806\n",
              "1836  42.846799 -106.264166\n",
              "1837  41.162019 -104.800048\n",
              "1838  43.469617 -110.789456\n",
              "\n",
              "[1839 rows x 2 columns]"
            ],
            "text/html": [
              "\n",
              "  <div id=\"df-4fbaeea9-f79b-4bf8-8890-d66c2dcf7f30\">\n",
              "    <div class=\"colab-df-container\">\n",
              "      <div>\n",
              "<style scoped>\n",
              "    .dataframe tbody tr th:only-of-type {\n",
              "        vertical-align: middle;\n",
              "    }\n",
              "\n",
              "    .dataframe tbody tr th {\n",
              "        vertical-align: top;\n",
              "    }\n",
              "\n",
              "    .dataframe thead th {\n",
              "        text-align: right;\n",
              "    }\n",
              "</style>\n",
              "<table border=\"1\" class=\"dataframe\">\n",
              "  <thead>\n",
              "    <tr style=\"text-align: right;\">\n",
              "      <th></th>\n",
              "      <th>latitude</th>\n",
              "      <th>longitude</th>\n",
              "    </tr>\n",
              "  </thead>\n",
              "  <tbody>\n",
              "    <tr>\n",
              "      <th>0</th>\n",
              "      <td>33.224225</td>\n",
              "      <td>-86.804174</td>\n",
              "    </tr>\n",
              "    <tr>\n",
              "      <th>1</th>\n",
              "      <td>33.334550</td>\n",
              "      <td>-86.989778</td>\n",
              "    </tr>\n",
              "    <tr>\n",
              "      <th>2</th>\n",
              "      <td>30.602875</td>\n",
              "      <td>-87.895932</td>\n",
              "    </tr>\n",
              "    <tr>\n",
              "      <th>3</th>\n",
              "      <td>34.560148</td>\n",
              "      <td>-86.971559</td>\n",
              "    </tr>\n",
              "    <tr>\n",
              "      <th>4</th>\n",
              "      <td>31.266061</td>\n",
              "      <td>-85.446422</td>\n",
              "    </tr>\n",
              "    <tr>\n",
              "      <th>...</th>\n",
              "      <td>...</td>\n",
              "      <td>...</td>\n",
              "    </tr>\n",
              "    <tr>\n",
              "      <th>1834</th>\n",
              "      <td>43.034293</td>\n",
              "      <td>-88.176840</td>\n",
              "    </tr>\n",
              "    <tr>\n",
              "      <th>1835</th>\n",
              "      <td>42.989604</td>\n",
              "      <td>-88.259806</td>\n",
              "    </tr>\n",
              "    <tr>\n",
              "      <th>1836</th>\n",
              "      <td>42.846799</td>\n",
              "      <td>-106.264166</td>\n",
              "    </tr>\n",
              "    <tr>\n",
              "      <th>1837</th>\n",
              "      <td>41.162019</td>\n",
              "      <td>-104.800048</td>\n",
              "    </tr>\n",
              "    <tr>\n",
              "      <th>1838</th>\n",
              "      <td>43.469617</td>\n",
              "      <td>-110.789456</td>\n",
              "    </tr>\n",
              "  </tbody>\n",
              "</table>\n",
              "<p>1839 rows × 2 columns</p>\n",
              "</div>\n",
              "      <button class=\"colab-df-convert\" onclick=\"convertToInteractive('df-4fbaeea9-f79b-4bf8-8890-d66c2dcf7f30')\"\n",
              "              title=\"Convert this dataframe to an interactive table.\"\n",
              "              style=\"display:none;\">\n",
              "        \n",
              "  <svg xmlns=\"http://www.w3.org/2000/svg\" height=\"24px\"viewBox=\"0 0 24 24\"\n",
              "       width=\"24px\">\n",
              "    <path d=\"M0 0h24v24H0V0z\" fill=\"none\"/>\n",
              "    <path d=\"M18.56 5.44l.94 2.06.94-2.06 2.06-.94-2.06-.94-.94-2.06-.94 2.06-2.06.94zm-11 1L8.5 8.5l.94-2.06 2.06-.94-2.06-.94L8.5 2.5l-.94 2.06-2.06.94zm10 10l.94 2.06.94-2.06 2.06-.94-2.06-.94-.94-2.06-.94 2.06-2.06.94z\"/><path d=\"M17.41 7.96l-1.37-1.37c-.4-.4-.92-.59-1.43-.59-.52 0-1.04.2-1.43.59L10.3 9.45l-7.72 7.72c-.78.78-.78 2.05 0 2.83L4 21.41c.39.39.9.59 1.41.59.51 0 1.02-.2 1.41-.59l7.78-7.78 2.81-2.81c.8-.78.8-2.07 0-2.86zM5.41 20L4 18.59l7.72-7.72 1.47 1.35L5.41 20z\"/>\n",
              "  </svg>\n",
              "      </button>\n",
              "      \n",
              "  <style>\n",
              "    .colab-df-container {\n",
              "      display:flex;\n",
              "      flex-wrap:wrap;\n",
              "      gap: 12px;\n",
              "    }\n",
              "\n",
              "    .colab-df-convert {\n",
              "      background-color: #E8F0FE;\n",
              "      border: none;\n",
              "      border-radius: 50%;\n",
              "      cursor: pointer;\n",
              "      display: none;\n",
              "      fill: #1967D2;\n",
              "      height: 32px;\n",
              "      padding: 0 0 0 0;\n",
              "      width: 32px;\n",
              "    }\n",
              "\n",
              "    .colab-df-convert:hover {\n",
              "      background-color: #E2EBFA;\n",
              "      box-shadow: 0px 1px 2px rgba(60, 64, 67, 0.3), 0px 1px 3px 1px rgba(60, 64, 67, 0.15);\n",
              "      fill: #174EA6;\n",
              "    }\n",
              "\n",
              "    [theme=dark] .colab-df-convert {\n",
              "      background-color: #3B4455;\n",
              "      fill: #D2E3FC;\n",
              "    }\n",
              "\n",
              "    [theme=dark] .colab-df-convert:hover {\n",
              "      background-color: #434B5C;\n",
              "      box-shadow: 0px 1px 3px 1px rgba(0, 0, 0, 0.15);\n",
              "      filter: drop-shadow(0px 1px 2px rgba(0, 0, 0, 0.3));\n",
              "      fill: #FFFFFF;\n",
              "    }\n",
              "  </style>\n",
              "\n",
              "      <script>\n",
              "        const buttonEl =\n",
              "          document.querySelector('#df-4fbaeea9-f79b-4bf8-8890-d66c2dcf7f30 button.colab-df-convert');\n",
              "        buttonEl.style.display =\n",
              "          google.colab.kernel.accessAllowed ? 'block' : 'none';\n",
              "\n",
              "        async function convertToInteractive(key) {\n",
              "          const element = document.querySelector('#df-4fbaeea9-f79b-4bf8-8890-d66c2dcf7f30');\n",
              "          const dataTable =\n",
              "            await google.colab.kernel.invokeFunction('convertToInteractive',\n",
              "                                                     [key], {});\n",
              "          if (!dataTable) return;\n",
              "\n",
              "          const docLinkHtml = 'Like what you see? Visit the ' +\n",
              "            '<a target=\"_blank\" href=https://colab.research.google.com/notebooks/data_table.ipynb>data table notebook</a>'\n",
              "            + ' to learn more about interactive tables.';\n",
              "          element.innerHTML = '';\n",
              "          dataTable['output_type'] = 'display_data';\n",
              "          await google.colab.output.renderOutput(dataTable, element);\n",
              "          const docLink = document.createElement('div');\n",
              "          docLink.innerHTML = docLinkHtml;\n",
              "          element.appendChild(docLink);\n",
              "        }\n",
              "      </script>\n",
              "    </div>\n",
              "  </div>\n",
              "  "
            ]
          },
          "metadata": {},
          "execution_count": 17
        }
      ]
    },
    {
      "cell_type": "code",
      "source": [
        "from sklearn.cluster import KMeans"
      ],
      "metadata": {
        "id": "b1Id69O3uGE0"
      },
      "execution_count": 18,
      "outputs": []
    },
    {
      "cell_type": "code",
      "source": [
        "X = df[[\"longitude\",\"latitude\"]]\n",
        "\n",
        "Nc = range(1, 20)\n",
        "kmeans = [KMeans(n_clusters=i) for i in Nc]\n",
        "kmeans\n",
        "score = [kmeans[i].fit(X).score(X) for i in range(len(kmeans))]\n",
        "score\n",
        "plt.subplots(figsize=(10,10))\n",
        "plt.plot(Nc,score)\n",
        "plt.xlabel('Number of Clusters')\n",
        "plt.ylabel('Score')\n",
        "plt.title('Elbow Curve')\n",
        "plt.show()"
      ],
      "metadata": {
        "colab": {
          "base_uri": "https://localhost:8080/",
          "height": 645
        },
        "id": "n9kCNLhquG-G",
        "outputId": "93bf734f-0121-4858-d852-a725049e5d0c"
      },
      "execution_count": 19,
      "outputs": [
        {
          "output_type": "display_data",
          "data": {
            "text/plain": [
              "<Figure size 720x720 with 1 Axes>"
            ],
            "image/png": "[encoded data removed]"
          },
          "metadata": {}
        }
      ]
    },
    {
      "cell_type": "markdown",
      "source": [
        "Así como en el ejemplo de Aprende Machine Learning veo que la curva es bastante “suave” y considero que 3 es un buen numero para K.  "
      ],
      "metadata": {
        "id": "X9y2k9dtuflu"
      }
    },
    {
      "cell_type": "code",
      "source": [
        "kmeans = KMeans(n_clusters=3).fit(X)\n",
        "centroids = kmeans.cluster_centers_\n",
        "labels = kmeans.predict(X)\n",
        "\n",
        "C = kmeans.cluster_centers_\n",
        "\n",
        "C_DF = pd.DataFrame(C)\n",
        "C_DF[\"Coordinates\"] = list(zip(C_DF[0], C_DF[1]))\n",
        "C_DF[\"Coordinates\"] = C_DF[\"Coordinates\"].apply(Point)\n",
        "\n",
        "\n",
        "gdf_C = gpd.GeoDataFrame(C_DF, geometry=\"Coordinates\")\n",
        "\n",
        "fig, gax = plt.subplots(figsize=(15,10))\n",
        "\n",
        "colors = ['pink','green','orange']\n",
        "\n",
        "color_asig = []\n",
        "\n",
        "for row in labels:\n",
        "  color_asig.append(colors[row])\n",
        "\n",
        "world.query(\"name == 'United States of America'\").plot(ax = gax, edgecolor='black', color='white')\n",
        "\n",
        "gdf.plot(ax=gax, color=color_asig, alpha = 0.5)\n",
        "gdf_C.plot(ax=gax, color='red', alpha = 1, markersize = 300)\n",
        "\n",
        "gax.set_xlabel('longitude')\n",
        "gax.set_ylabel('latitude')\n",
        "gax.set_title('Target en Estados Unidos')\n",
        "\n",
        "gax.spines['top'].set_visible(False)\n",
        "gax.spines['right'].set_visible(False)\n",
        "\n",
        "plt.show()"
      ],
      "metadata": {
        "colab": {
          "base_uri": "https://localhost:8080/",
          "height": 520
        },
        "id": "62bXjckkupIR",
        "outputId": "2ec93610-4c94-4d6f-cd14-a8830ea4e264"
      },
      "execution_count": 27,
      "outputs": [
        {
          "output_type": "display_data",
          "data": {
            "text/plain": [
              "<Figure size 1080x720 with 1 Axes>"
            ],
            "image/png": "[encoded data removed]"
          },
          "metadata": {}
        }
      ]
    },
    {
      "cell_type": "code",
      "source": [
        "#Tiendas por cluster\n",
        "latlong['kmeans'] = kmeans.labels_\n",
        "latlong.loc[:, 'kmeans'].value_counts()"
      ],
      "metadata": {
        "colab": {
          "base_uri": "https://localhost:8080/"
        },
        "id": "pF82RxmBvx-f",
        "outputId": "6b5ed884-82ae-4d74-ffad-b488eeacf267"
      },
      "execution_count": 28,
      "outputs": [
        {
          "output_type": "stream",
          "name": "stderr",
          "text": [
            "/usr/local/lib/python3.7/dist-packages/ipykernel_launcher.py:2: SettingWithCopyWarning: \n",
            "A value is trying to be set on a copy of a slice from a DataFrame.\n",
            "Try using .loc[row_indexer,col_indexer] = value instead\n",
            "\n",
            "See the caveats in the documentation: https://pandas.pydata.org/pandas-docs/stable/user_guide/indexing.html#returning-a-view-versus-a-copy\n",
            "  \n"
          ]
        },
        {
          "output_type": "execute_result",
          "data": {
            "text/plain": [
              "1    826\n",
              "2    628\n",
              "0    385\n",
              "Name: kmeans, dtype: int64"
            ]
          },
          "metadata": {},
          "execution_count": 28
        }
      ]
    },
    {
      "cell_type": "code",
      "source": [
        "gdf_C"
      ],
      "metadata": {
        "colab": {
          "base_uri": "https://localhost:8080/",
          "height": 143
        },
        "id": "zAMI98TFv28n",
        "outputId": "329d1a17-2910-47fd-c3d8-6265e2b8b67c"
      },
      "execution_count": 29,
      "outputs": [
        {
          "output_type": "execute_result",
          "data": {
            "text/plain": [
              "            0          1                  Coordinates\n",
              "0 -118.624473  37.487342  POINT (-118.62447 37.48734)\n",
              "1  -78.569908  37.789554   POINT (-78.56991 37.78955)\n",
              "2  -93.327172  37.980063   POINT (-93.32717 37.98006)"
            ],
            "text/html": [
              "\n",
              "  <div id=\"df-5fd3cee9-22f0-436a-bcb8-d15b2ec7a622\">\n",
              "    <div class=\"colab-df-container\">\n",
              "      <div>\n",
              "<style scoped>\n",
              "    .dataframe tbody tr th:only-of-type {\n",
              "        vertical-align: middle;\n",
              "    }\n",
              "\n",
              "    .dataframe tbody tr th {\n",
              "        vertical-align: top;\n",
              "    }\n",
              "\n",
              "    .dataframe thead th {\n",
              "        text-align: right;\n",
              "    }\n",
              "</style>\n",
              "<table border=\"1\" class=\"dataframe\">\n",
              "  <thead>\n",
              "    <tr style=\"text-align: right;\">\n",
              "      <th></th>\n",
              "      <th>0</th>\n",
              "      <th>1</th>\n",
              "      <th>Coordinates</th>\n",
              "    </tr>\n",
              "  </thead>\n",
              "  <tbody>\n",
              "    <tr>\n",
              "      <th>0</th>\n",
              "      <td>-118.624473</td>\n",
              "      <td>37.487342</td>\n",
              "      <td>POINT (-118.62447 37.48734)</td>\n",
              "    </tr>\n",
              "    <tr>\n",
              "      <th>1</th>\n",
              "      <td>-78.569908</td>\n",
              "      <td>37.789554</td>\n",
              "      <td>POINT (-78.56991 37.78955)</td>\n",
              "    </tr>\n",
              "    <tr>\n",
              "      <th>2</th>\n",
              "      <td>-93.327172</td>\n",
              "      <td>37.980063</td>\n",
              "      <td>POINT (-93.32717 37.98006)</td>\n",
              "    </tr>\n",
              "  </tbody>\n",
              "</table>\n",
              "</div>\n",
              "      <button class=\"colab-df-convert\" onclick=\"convertToInteractive('df-5fd3cee9-22f0-436a-bcb8-d15b2ec7a622')\"\n",
              "              title=\"Convert this dataframe to an interactive table.\"\n",
              "              style=\"display:none;\">\n",
              "        \n",
              "  <svg xmlns=\"http://www.w3.org/2000/svg\" height=\"24px\"viewBox=\"0 0 24 24\"\n",
              "       width=\"24px\">\n",
              "    <path d=\"M0 0h24v24H0V0z\" fill=\"none\"/>\n",
              "    <path d=\"M18.56 5.44l.94 2.06.94-2.06 2.06-.94-2.06-.94-.94-2.06-.94 2.06-2.06.94zm-11 1L8.5 8.5l.94-2.06 2.06-.94-2.06-.94L8.5 2.5l-.94 2.06-2.06.94zm10 10l.94 2.06.94-2.06 2.06-.94-2.06-.94-.94-2.06-.94 2.06-2.06.94z\"/><path d=\"M17.41 7.96l-1.37-1.37c-.4-.4-.92-.59-1.43-.59-.52 0-1.04.2-1.43.59L10.3 9.45l-7.72 7.72c-.78.78-.78 2.05 0 2.83L4 21.41c.39.39.9.59 1.41.59.51 0 1.02-.2 1.41-.59l7.78-7.78 2.81-2.81c.8-.78.8-2.07 0-2.86zM5.41 20L4 18.59l7.72-7.72 1.47 1.35L5.41 20z\"/>\n",
              "  </svg>\n",
              "      </button>\n",
              "      \n",
              "  <style>\n",
              "    .colab-df-container {\n",
              "      display:flex;\n",
              "      flex-wrap:wrap;\n",
              "      gap: 12px;\n",
              "    }\n",
              "\n",
              "    .colab-df-convert {\n",
              "      background-color: #E8F0FE;\n",
              "      border: none;\n",
              "      border-radius: 50%;\n",
              "      cursor: pointer;\n",
              "      display: none;\n",
              "      fill: #1967D2;\n",
              "      height: 32px;\n",
              "      padding: 0 0 0 0;\n",
              "      width: 32px;\n",
              "    }\n",
              "\n",
              "    .colab-df-convert:hover {\n",
              "      background-color: #E2EBFA;\n",
              "      box-shadow: 0px 1px 2px rgba(60, 64, 67, 0.3), 0px 1px 3px 1px rgba(60, 64, 67, 0.15);\n",
              "      fill: #174EA6;\n",
              "    }\n",
              "\n",
              "    [theme=dark] .colab-df-convert {\n",
              "      background-color: #3B4455;\n",
              "      fill: #D2E3FC;\n",
              "    }\n",
              "\n",
              "    [theme=dark] .colab-df-convert:hover {\n",
              "      background-color: #434B5C;\n",
              "      box-shadow: 0px 1px 3px 1px rgba(0, 0, 0, 0.15);\n",
              "      filter: drop-shadow(0px 1px 2px rgba(0, 0, 0, 0.3));\n",
              "      fill: #FFFFFF;\n",
              "    }\n",
              "  </style>\n",
              "\n",
              "      <script>\n",
              "        const buttonEl =\n",
              "          document.querySelector('#df-5fd3cee9-22f0-436a-bcb8-d15b2ec7a622 button.colab-df-convert');\n",
              "        buttonEl.style.display =\n",
              "          google.colab.kernel.accessAllowed ? 'block' : 'none';\n",
              "\n",
              "        async function convertToInteractive(key) {\n",
              "          const element = document.querySelector('#df-5fd3cee9-22f0-436a-bcb8-d15b2ec7a622');\n",
              "          const dataTable =\n",
              "            await google.colab.kernel.invokeFunction('convertToInteractive',\n",
              "                                                     [key], {});\n",
              "          if (!dataTable) return;\n",
              "\n",
              "          const docLinkHtml = 'Like what you see? Visit the ' +\n",
              "            '<a target=\"_blank\" href=https://colab.research.google.com/notebooks/data_table.ipynb>data table notebook</a>'\n",
              "            + ' to learn more about interactive tables.';\n",
              "          element.innerHTML = '';\n",
              "          dataTable['output_type'] = 'display_data';\n",
              "          await google.colab.output.renderOutput(dataTable, element);\n",
              "          const docLink = document.createElement('div');\n",
              "          docLink.innerHTML = docLinkHtml;\n",
              "          element.appendChild(docLink);\n",
              "        }\n",
              "      </script>\n",
              "    </div>\n",
              "  </div>\n",
              "  "
            ]
          },
          "metadata": {},
          "execution_count": 29
        }
      ]
    },
    {
      "cell_type": "code",
      "source": [
        "from pandas.core.internals.concat import concat_arrays\n",
        "\n",
        "print(gdf_C[0][0])\n",
        "print(gdf_C[1][0])\n",
        "\n",
        "Location1 = str(gdf_C[1][0]) + \", \" + str(gdf_C[0][0])\n",
        "print(Location1)\n",
        "Location2 = str(gdf_C[1][1]) + \", \" + str(gdf_C[0][1])\n",
        "print(Location2)\n",
        "Location3 = str(gdf_C[1][2]) + \", \" + str(gdf_C[0][2])\n",
        "print(Location3)"
      ],
      "metadata": {
        "colab": {
          "base_uri": "https://localhost:8080/"
        },
        "id": "qqgChgoBv6Le",
        "outputId": "0f3f3d15-6bbd-46b6-9ffe-fa589ab00cd3"
      },
      "execution_count": 24,
      "outputs": [
        {
          "output_type": "stream",
          "name": "stdout",
          "text": [
            "-93.27994961093502\n",
            "37.98791363565769\n",
            "37.98791363565769, -93.27994961093502\n",
            "37.48734203064935, -118.62447331844157\n",
            "37.78260864094776, -78.53438980340219\n"
          ]
        }
      ]
    },
    {
      "cell_type": "code",
      "source": [
        "from geopy.geocoders.yandex import Location\n",
        "from geopy.geocoders import Nominatim\n",
        "from geopy.distance import geodesic\n",
        "\n",
        "geolocator = Nominatim(user_agent=\"my-application\")\n",
        "Locations = [Location1, Location2, Location3]\n",
        "for i in Locations:\n",
        "  location = geolocator.reverse(i)\n",
        "\n",
        "  print(location.address)\n",
        "\n",
        "locations1 = geolocator.reverse(Location1)\n",
        "locations2 = geolocator.reverse(Location2)\n",
        "\n",
        "distancia1 = str(geodesic(Location1, Location2).miles)\n",
        "print(\"\\nDistancia entre el primer y segundo almacén : \", distancia1, \" Millas \\n\")\n",
        "distancia2 = str(geodesic(Location2, Location3).miles)\n",
        "print(\"Distancia entre el segundo y tercer almacén : \", distancia2, \" Millas \\n\")"
      ],
      "metadata": {
        "colab": {
          "base_uri": "https://localhost:8080/"
        },
        "id": "uW56ZgPhwDDd",
        "outputId": "8b10f270-2361-4292-a3a8-4f4fd2e1d40e"
      },
      "execution_count": 26,
      "outputs": [
        {
          "output_type": "stream",
          "name": "stdout",
          "text": [
            "State Highway U, Hickory County, Missouri, 65668, United States\n",
            "Paradise Estates, Mono County, California, United States\n",
            "James River Road, Scottsville, Albemarle County, Virginia, 24590, United States\n",
            "\n",
            "Distancia entre el primer y segundo almacén :  1384.2605690747557  Millas \n",
            "\n",
            "Distancia entre el segundo y tercer almacén :  2181.65568564248  Millas \n",
            "\n"
          ]
        }
      ]
    },
    {
      "cell_type": "code",
      "source": [
        "gdf_nw = gdf_C.drop('Coordinates',axis='columns')\n",
        "gdf_nw.columns = ['Longitud','Latitud']\n",
        "gdf_nw['Localizacion'] = ['California','Virginia','Missouri']\n",
        "gdf_nw['Tiendas a surtir'] = [385,826,628]\n",
        "gdf_nw"
      ],
      "metadata": {
        "colab": {
          "base_uri": "https://localhost:8080/",
          "height": 143
        },
        "id": "1qz7WeZuv9Gj",
        "outputId": "cae2c441-4e33-4882-b163-9fe748d11606"
      },
      "execution_count": 25,
      "outputs": [
        {
          "output_type": "execute_result",
          "data": {
            "text/plain": [
              "     Longitud    Latitud Localizacion  Tiendas a surtir\n",
              "0  -93.279950  37.987914   California               385\n",
              "1 -118.624473  37.487342     Virginia               826\n",
              "2  -78.534390  37.782609     Missouri               628"
            ],
            "text/html": [
              "\n",
              "  <div id=\"df-71e4ae77-58d1-4a19-8434-cd4febb96e97\">\n",
              "    <div class=\"colab-df-container\">\n",
              "      <div>\n",
              "<style scoped>\n",
              "    .dataframe tbody tr th:only-of-type {\n",
              "        vertical-align: middle;\n",
              "    }\n",
              "\n",
              "    .dataframe tbody tr th {\n",
              "        vertical-align: top;\n",
              "    }\n",
              "\n",
              "    .dataframe thead th {\n",
              "        text-align: right;\n",
              "    }\n",
              "</style>\n",
              "<table border=\"1\" class=\"dataframe\">\n",
              "  <thead>\n",
              "    <tr style=\"text-align: right;\">\n",
              "      <th></th>\n",
              "      <th>Longitud</th>\n",
              "      <th>Latitud</th>\n",
              "      <th>Localizacion</th>\n",
              "      <th>Tiendas a surtir</th>\n",
              "    </tr>\n",
              "  </thead>\n",
              "  <tbody>\n",
              "    <tr>\n",
              "      <th>0</th>\n",
              "      <td>-93.279950</td>\n",
              "      <td>37.987914</td>\n",
              "      <td>California</td>\n",
              "      <td>385</td>\n",
              "    </tr>\n",
              "    <tr>\n",
              "      <th>1</th>\n",
              "      <td>-118.624473</td>\n",
              "      <td>37.487342</td>\n",
              "      <td>Virginia</td>\n",
              "      <td>826</td>\n",
              "    </tr>\n",
              "    <tr>\n",
              "      <th>2</th>\n",
              "      <td>-78.534390</td>\n",
              "      <td>37.782609</td>\n",
              "      <td>Missouri</td>\n",
              "      <td>628</td>\n",
              "    </tr>\n",
              "  </tbody>\n",
              "</table>\n",
              "</div>\n",
              "      <button class=\"colab-df-convert\" onclick=\"convertToInteractive('df-71e4ae77-58d1-4a19-8434-cd4febb96e97')\"\n",
              "              title=\"Convert this dataframe to an interactive table.\"\n",
              "              style=\"display:none;\">\n",
              "        \n",
              "  <svg xmlns=\"http://www.w3.org/2000/svg\" height=\"24px\"viewBox=\"0 0 24 24\"\n",
              "       width=\"24px\">\n",
              "    <path d=\"M0 0h24v24H0V0z\" fill=\"none\"/>\n",
              "    <path d=\"M18.56 5.44l.94 2.06.94-2.06 2.06-.94-2.06-.94-.94-2.06-.94 2.06-2.06.94zm-11 1L8.5 8.5l.94-2.06 2.06-.94-2.06-.94L8.5 2.5l-.94 2.06-2.06.94zm10 10l.94 2.06.94-2.06 2.06-.94-2.06-.94-.94-2.06-.94 2.06-2.06.94z\"/><path d=\"M17.41 7.96l-1.37-1.37c-.4-.4-.92-.59-1.43-.59-.52 0-1.04.2-1.43.59L10.3 9.45l-7.72 7.72c-.78.78-.78 2.05 0 2.83L4 21.41c.39.39.9.59 1.41.59.51 0 1.02-.2 1.41-.59l7.78-7.78 2.81-2.81c.8-.78.8-2.07 0-2.86zM5.41 20L4 18.59l7.72-7.72 1.47 1.35L5.41 20z\"/>\n",
              "  </svg>\n",
              "      </button>\n",
              "      \n",
              "  <style>\n",
              "    .colab-df-container {\n",
              "      display:flex;\n",
              "      flex-wrap:wrap;\n",
              "      gap: 12px;\n",
              "    }\n",
              "\n",
              "    .colab-df-convert {\n",
              "      background-color: #E8F0FE;\n",
              "      border: none;\n",
              "      border-radius: 50%;\n",
              "      cursor: pointer;\n",
              "      display: none;\n",
              "      fill: #1967D2;\n",
              "      height: 32px;\n",
              "      padding: 0 0 0 0;\n",
              "      width: 32px;\n",
              "    }\n",
              "\n",
              "    .colab-df-convert:hover {\n",
              "      background-color: #E2EBFA;\n",
              "      box-shadow: 0px 1px 2px rgba(60, 64, 67, 0.3), 0px 1px 3px 1px rgba(60, 64, 67, 0.15);\n",
              "      fill: #174EA6;\n",
              "    }\n",
              "\n",
              "    [theme=dark] .colab-df-convert {\n",
              "      background-color: #3B4455;\n",
              "      fill: #D2E3FC;\n",
              "    }\n",
              "\n",
              "    [theme=dark] .colab-df-convert:hover {\n",
              "      background-color: #434B5C;\n",
              "      box-shadow: 0px 1px 3px 1px rgba(0, 0, 0, 0.15);\n",
              "      filter: drop-shadow(0px 1px 2px rgba(0, 0, 0, 0.3));\n",
              "      fill: #FFFFFF;\n",
              "    }\n",
              "  </style>\n",
              "\n",
              "      <script>\n",
              "        const buttonEl =\n",
              "          document.querySelector('#df-71e4ae77-58d1-4a19-8434-cd4febb96e97 button.colab-df-convert');\n",
              "        buttonEl.style.display =\n",
              "          google.colab.kernel.accessAllowed ? 'block' : 'none';\n",
              "\n",
              "        async function convertToInteractive(key) {\n",
              "          const element = document.querySelector('#df-71e4ae77-58d1-4a19-8434-cd4febb96e97');\n",
              "          const dataTable =\n",
              "            await google.colab.kernel.invokeFunction('convertToInteractive',\n",
              "                                                     [key], {});\n",
              "          if (!dataTable) return;\n",
              "\n",
              "          const docLinkHtml = 'Like what you see? Visit the ' +\n",
              "            '<a target=\"_blank\" href=https://colab.research.google.com/notebooks/data_table.ipynb>data table notebook</a>'\n",
              "            + ' to learn more about interactive tables.';\n",
              "          element.innerHTML = '';\n",
              "          dataTable['output_type'] = 'display_data';\n",
              "          await google.colab.output.renderOutput(dataTable, element);\n",
              "          const docLink = document.createElement('div');\n",
              "          docLink.innerHTML = docLinkHtml;\n",
              "          element.appendChild(docLink);\n",
              "        }\n",
              "      </script>\n",
              "    </div>\n",
              "  </div>\n",
              "  "
            ]
          },
          "metadata": {},
          "execution_count": 25
        }
      ]
    },
    {
      "cell_type": "markdown",
      "source": [
        "**Encuentra las latitudes y longitudes de los almacenes, ¿qué ciudad es?, ¿a cuantas tiendas va surtir?, ¿sabes a que distancia estará?**"
      ],
      "metadata": {
        "id": "f6tO2gYkwZiY"
      }
    },
    {
      "cell_type": "markdown",
      "source": [
        "![image.png](data:image/png;base64,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)"
      ],
      "metadata": {
        "id": "QPXRf_-kwdCl"
      }
    },
    {
      "cell_type": "markdown",
      "source": [
        "Distancia entre el primer y segundo almacén :  1384.2605690747557  Millas \n",
        "\n",
        "Distancia entre el segundo y tercer almacén :  2181.65568564248  Millas "
      ],
      "metadata": {
        "id": "J0nX9TsNxZwA"
      }
    },
    {
      "cell_type": "markdown",
      "source": [
        "**¿Cómo elegiste el número de almacenes?, justifica tu respuesta técnicamente.**"
      ],
      "metadata": {
        "id": "bp6VC1xQxas9"
      }
    },
    {
      "cell_type": "markdown",
      "source": [
        "Para elegir el valor de K utilice el método de encontrar el punto codo. Esto mide la distancia media entre los puntos de datos y su centroide. Y como el valor de la media disminuirá a medida de que aumentemos el valor de K, podemos utilizar la distancia media al centroide en función de K y encontrar el “punto codo” donde se afila la tasa de descenso. En este caso veo que el descenso ocurre después de 3 clusters.   "
      ],
      "metadata": {
        "id": "Y4DF_FiQxfdU"
      }
    },
    {
      "cell_type": "markdown",
      "source": [
        "**Adicionalmente, en el notebook notaras que al inicio exploramos los datos y los graficamos de manera simple, después nos auxiliamos de una librería de datos geográficos.**"
      ],
      "metadata": {
        "id": "sEknaPRay5U7"
      }
    },
    {
      "cell_type": "markdown",
      "source": [
        "**¿qué librerías nos pueden ayudar a graficar este tipo de datos?**"
      ],
      "metadata": {
        "id": "-lNd33PLy6L9"
      }
    },
    {
      "cell_type": "markdown",
      "source": [
        "Encontre las siguientes como ejemplos:\n",
        "\n",
        "*   Basemap\n",
        "*   Geemap\n",
        "*   GeoPy\n",
        "*   GeoPanda\n",
        "*   geoplotlib\n",
        "*   Arcpy\n",
        "\n"
      ],
      "metadata": {
        "id": "Vl_FxQwky7zh"
      }
    },
    {
      "cell_type": "markdown",
      "source": [
        "**¿Consideras importante que se grafique en un mapa?, ¿por qué?**"
      ],
      "metadata": {
        "id": "Fa8C6NJmy717"
      }
    },
    {
      "cell_type": "markdown",
      "source": [
        "Para este tipo de información me parece de suma importancia y valor la grafica de mapa. Si estuviera en la empresa dando una presentación justificando mi análisis de cuantos almacenes se deben de usar y donde estarían ubicados, este mapa sería una de las piezas mas claves para transmitir información. Queda muy claro la distribución y saturación de las tiendas y el porque es importante la cantidad de clusters y ciudades elegidas. Traduce información técnica como latitud, longitud, densidad, etc a algo mucho mas visual y agradable. "
      ],
      "metadata": {
        "id": "IMBOZ_rGy9ro"
      }
    },
    {
      "cell_type": "markdown",
      "source": [
        "**Agrega las conclusiones**"
      ],
      "metadata": {
        "id": "fF4Xs7ugy9uP"
      }
    },
    {
      "cell_type": "markdown",
      "source": [
        "Me sorprendió mucho aprender estas técnicas y agregar una herramienta mas a mi arsenal. Desconocía que existían este tipo de librerías y siento que abre muchas oportunidades para ser aplicadas. En general el concepto de K means hace mucho sentido y ayuda a convertir un problema bastante complejo a algo relativamente simple. Con este ejemplo queda mas asentado el concepto y siento que lo revisitare en el futuro aplicándolo a mi área laboral, trabajo en cadena de suministro y se me ocurren muchas áreas donde esto podría ser aplicado para facilitar la toma de decisiones. "
      ],
      "metadata": {
        "id": "NtPE0iW1y_Hr"
      }
    }
  ]
}