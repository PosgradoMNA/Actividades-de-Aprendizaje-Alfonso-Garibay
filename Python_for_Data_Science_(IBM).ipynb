{
  "nbformat": 4,
  "nbformat_minor": 0,
  "metadata": {
    "colab": {
      "provenance": []
    },
    "kernelspec": {
      "name": "python3",
      "display_name": "Python 3"
    },
    "language_info": {
      "name": "python"
    }
  },
  "cells": [
    {
      "cell_type": "markdown",
      "source": [
        "# **Module 1**"
      ],
      "metadata": {
        "id": "d7j7aI1rw9B8"
      }
    },
    {
      "cell_type": "markdown",
      "source": [
        "Using the Practice Lab, find the result of executing print(\"Hello\\nWorld!\") statement."
      ],
      "metadata": {
        "id": "Vk8EBSFtxD5E"
      }
    },
    {
      "cell_type": "code",
      "source": [
        "print(\"Hello\\nWorld!\") \n"
      ],
      "metadata": {
        "colab": {
          "base_uri": "https://localhost:8080/"
        },
        "id": "E3WEGHP6xG4Q",
        "outputId": "2a9c89f8-c579-4a09-ed7f-06e3ba81a09d"
      },
      "execution_count": 1,
      "outputs": [
        {
          "output_type": "stream",
          "name": "stdout",
          "text": [
            "Hello\n",
            "World!\n"
          ]
        }
      ]
    },
    {
      "cell_type": "markdown",
      "source": [
        "What is the output of executing the following statement: # print('Hello World!')?"
      ],
      "metadata": {
        "id": "7KHsyh2JxLpO"
      }
    },
    {
      "cell_type": "code",
      "source": [
        "# print('Hello World!')"
      ],
      "metadata": {
        "id": "rGPhp3VFxOkt"
      },
      "execution_count": 2,
      "outputs": []
    },
    {
      "cell_type": "markdown",
      "source": [
        "There is no output as it is a comment.\n"
      ],
      "metadata": {
        "id": "41jLgRpmxQJg"
      }
    },
    {
      "cell_type": "markdown",
      "source": [
        "What is the type of the following: int(1.0)?"
      ],
      "metadata": {
        "id": "zI_3arCaxTaz"
      }
    },
    {
      "cell_type": "markdown",
      "source": [
        "Int"
      ],
      "metadata": {
        "id": "JRLMzT_ZxfP1"
      }
    },
    {
      "cell_type": "markdown",
      "source": [
        "Enter the code to convert the number 1 to a Boolean."
      ],
      "metadata": {
        "id": "BpYeJebmxjKj"
      }
    },
    {
      "cell_type": "code",
      "source": [
        "bool(1)"
      ],
      "metadata": {
        "colab": {
          "base_uri": "https://localhost:8080/"
        },
        "id": "pW8JgCLjxjmL",
        "outputId": "dfd2a6de-6498-4868-e57b-1bdba3884bd1"
      },
      "execution_count": 5,
      "outputs": [
        {
          "output_type": "execute_result",
          "data": {
            "text/plain": [
              "True"
            ]
          },
          "metadata": {},
          "execution_count": 5
        }
      ]
    },
    {
      "cell_type": "markdown",
      "source": [
        "Numbers = \"0123456\" How would you obtain the even elements?"
      ],
      "metadata": {
        "id": "0K_lFNvvxoTa"
      }
    },
    {
      "cell_type": "code",
      "source": [
        "Numbers = \"0123456\" \n",
        "Numbers[::2]"
      ],
      "metadata": {
        "colab": {
          "base_uri": "https://localhost:8080/",
          "height": 35
        },
        "id": "kavXgjB3xo5R",
        "outputId": "cca14c65-d357-43cf-e3a5-d64ffe5e18df"
      },
      "execution_count": 6,
      "outputs": [
        {
          "output_type": "execute_result",
          "data": {
            "text/plain": [
              "'0246'"
            ],
            "application/vnd.google.colaboratory.intrinsic+json": {
              "type": "string"
            }
          },
          "metadata": {},
          "execution_count": 6
        }
      ]
    },
    {
      "cell_type": "markdown",
      "source": [
        "**Review Questions**"
      ],
      "metadata": {
        "id": "G2CYvCxJx4_O"
      }
    },
    {
      "cell_type": "markdown",
      "source": [
        "What is the result of the following operation in Python: 3 + 2 * 2"
      ],
      "metadata": {
        "id": "3FKWC6Mqx7CZ"
      }
    },
    {
      "cell_type": "code",
      "source": [
        "3 + 2 * 2"
      ],
      "metadata": {
        "colab": {
          "base_uri": "https://localhost:8080/"
        },
        "id": "jPwCFgdax_Fl",
        "outputId": "840018c1-ad80-471c-dd90-c08ef3f36846"
      },
      "execution_count": 7,
      "outputs": [
        {
          "output_type": "execute_result",
          "data": {
            "text/plain": [
              "7"
            ]
          },
          "metadata": {},
          "execution_count": 7
        }
      ]
    },
    {
      "cell_type": "markdown",
      "source": [
        "In Python, if you executed name = 'Lizz', what would be the output of print(name[0:2])?"
      ],
      "metadata": {
        "id": "L5XNhrnSyB2r"
      }
    },
    {
      "cell_type": "code",
      "source": [
        "name = 'Lizz'\n",
        "print(name[0:2])"
      ],
      "metadata": {
        "colab": {
          "base_uri": "https://localhost:8080/"
        },
        "id": "cobzvzM1yDQU",
        "outputId": "fb1708bf-9d3d-4fdb-d1af-a8b2ca42cee5"
      },
      "execution_count": 9,
      "outputs": [
        {
          "output_type": "stream",
          "name": "stdout",
          "text": [
            "Li\n"
          ]
        }
      ]
    },
    {
      "cell_type": "markdown",
      "source": [
        "In Python, if you executed var = '01234567', what would be the result of print(var[::2])?"
      ],
      "metadata": {
        "id": "Y_zMGGDxyIY2"
      }
    },
    {
      "cell_type": "code",
      "source": [
        "var = '01234567'\n",
        "print(var[::2])"
      ],
      "metadata": {
        "colab": {
          "base_uri": "https://localhost:8080/"
        },
        "id": "_-RWJNUkyKMz",
        "outputId": "169861a5-5a00-4e37-8e7a-d59563c5588c"
      },
      "execution_count": 10,
      "outputs": [
        {
          "output_type": "stream",
          "name": "stdout",
          "text": [
            "0246\n"
          ]
        }
      ]
    },
    {
      "cell_type": "markdown",
      "source": [
        "In Python, what is the result of the following operation '1'+'2'?"
      ],
      "metadata": {
        "id": "ycHfxxeIyPFZ"
      }
    },
    {
      "cell_type": "code",
      "source": [
        "'1'+'2'"
      ],
      "metadata": {
        "colab": {
          "base_uri": "https://localhost:8080/",
          "height": 35
        },
        "id": "zUzeA7eZyP3T",
        "outputId": "384df8aa-94b0-48ce-cd10-2f762d778d7f"
      },
      "execution_count": 11,
      "outputs": [
        {
          "output_type": "execute_result",
          "data": {
            "text/plain": [
              "'12'"
            ],
            "application/vnd.google.colaboratory.intrinsic+json": {
              "type": "string"
            }
          },
          "metadata": {},
          "execution_count": 11
        }
      ]
    },
    {
      "cell_type": "markdown",
      "source": [
        "Given myvar = 'hello', how would you convert myvar into uppercase?"
      ],
      "metadata": {
        "id": "QWsJCPFRySrQ"
      }
    },
    {
      "cell_type": "code",
      "source": [
        "myvar = 'hello'\n",
        "myvar.upper()"
      ],
      "metadata": {
        "colab": {
          "base_uri": "https://localhost:8080/",
          "height": 35
        },
        "id": "nnOVaY5IyUfv",
        "outputId": "a024d85e-aa77-47dc-c605-d283c28242ec"
      },
      "execution_count": 12,
      "outputs": [
        {
          "output_type": "execute_result",
          "data": {
            "text/plain": [
              "'HELLO'"
            ],
            "application/vnd.google.colaboratory.intrinsic+json": {
              "type": "string"
            }
          },
          "metadata": {},
          "execution_count": 12
        }
      ]
    },
    {
      "cell_type": "markdown",
      "source": [
        "# **Module 2**"
      ],
      "metadata": {
        "id": "4eDDElIHyYHH"
      }
    },
    {
      "cell_type": "markdown",
      "source": [
        "How do you access the last element of the following tuple: A=(0,1,2,3)? Select all possible correct answers."
      ],
      "metadata": {
        "id": "fO7xOe0Ryh-X"
      }
    },
    {
      "cell_type": "code",
      "source": [
        "A=(0,1,2,3)\n",
        "A[3]\n",
        "\n"
      ],
      "metadata": {
        "colab": {
          "base_uri": "https://localhost:8080/"
        },
        "id": "Mm2bFq85yjJU",
        "outputId": "885e548d-100e-4557-c91f-d1c1b44807f8"
      },
      "execution_count": 14,
      "outputs": [
        {
          "output_type": "execute_result",
          "data": {
            "text/plain": [
              "3"
            ]
          },
          "metadata": {},
          "execution_count": 14
        }
      ]
    },
    {
      "cell_type": "code",
      "source": [
        "A=(0,1,2,3)\n",
        "A[-1]"
      ],
      "metadata": {
        "colab": {
          "base_uri": "https://localhost:8080/"
        },
        "id": "o_7nW_pgyptS",
        "outputId": "5c3b9c93-46ff-4790-9a4b-b9cc827c1dd6"
      },
      "execution_count": 15,
      "outputs": [
        {
          "output_type": "execute_result",
          "data": {
            "text/plain": [
              "3"
            ]
          },
          "metadata": {},
          "execution_count": 15
        }
      ]
    },
    {
      "cell_type": "markdown",
      "source": [
        "Consider the list: B=[\"a\",\"b\",\"c\"]. What is the result of the following B[1:]?"
      ],
      "metadata": {
        "id": "ZtxV3rbXyyMk"
      }
    },
    {
      "cell_type": "code",
      "source": [
        "B=[\"a\",\"b\",\"c\"]\n",
        "B[1:]\n"
      ],
      "metadata": {
        "colab": {
          "base_uri": "https://localhost:8080/"
        },
        "id": "smh45pZZzImo",
        "outputId": "877df4c8-21ac-415c-ea49-cc8b98d1030d"
      },
      "execution_count": 17,
      "outputs": [
        {
          "output_type": "execute_result",
          "data": {
            "text/plain": [
              "['b', 'c']"
            ]
          },
          "metadata": {},
          "execution_count": 17
        }
      ]
    },
    {
      "cell_type": "markdown",
      "source": [
        "What is the result of the following lines of code: S={'A','B','C'}\n",
        "U={'A','Z','C'}\n",
        "U.union(S)\n"
      ],
      "metadata": {
        "id": "5gGXW_mjzNJf"
      }
    },
    {
      "cell_type": "code",
      "source": [
        "S={'A','B','C'}\n",
        "U={'A','Z','C'}\n",
        "U.union(S)\n"
      ],
      "metadata": {
        "colab": {
          "base_uri": "https://localhost:8080/"
        },
        "id": "r658sj55zczP",
        "outputId": "3c3f2950-e8d9-4e02-88f1-d6f83f4b6088"
      },
      "execution_count": 18,
      "outputs": [
        {
          "output_type": "execute_result",
          "data": {
            "text/plain": [
              "{'A', 'B', 'C', 'Z'}"
            ]
          },
          "metadata": {},
          "execution_count": 18
        }
      ]
    },
    {
      "cell_type": "markdown",
      "source": [
        "What is the intersection of set S and U? What is the intersection of set S and U?\n",
        "S={'A','B','C'}\n",
        "U={'A','Z','C'}"
      ],
      "metadata": {
        "id": "Fxj5ZUlLz-gR"
      }
    },
    {
      "cell_type": "code",
      "source": [
        "S={'A','B','C'}\n",
        "U={'A','Z','C'}\n",
        "S.intersection(U)"
      ],
      "metadata": {
        "colab": {
          "base_uri": "https://localhost:8080/"
        },
        "id": "umaC5Tm30BNx",
        "outputId": "a4070950-320b-4d18-fdb9-c15208d1cf31"
      },
      "execution_count": 19,
      "outputs": [
        {
          "output_type": "execute_result",
          "data": {
            "text/plain": [
              "{'A', 'C'}"
            ]
          },
          "metadata": {},
          "execution_count": 19
        }
      ]
    },
    {
      "cell_type": "markdown",
      "source": [
        "Consider the following dictionary:\n",
        "D = {'a':0,'b':1,'c':2}\n",
        "What is the result of the following: D.values()?\n"
      ],
      "metadata": {
        "id": "9hAT3j5R0NZq"
      }
    },
    {
      "cell_type": "code",
      "source": [
        "D = {'a':0,'b':1,'c':2}\n",
        "D.values()\n"
      ],
      "metadata": {
        "colab": {
          "base_uri": "https://localhost:8080/"
        },
        "id": "GhxHzfXA0PDo",
        "outputId": "207789e6-f496-4dec-d1b4-a3b5783c76f9"
      },
      "execution_count": 21,
      "outputs": [
        {
          "output_type": "execute_result",
          "data": {
            "text/plain": [
              "dict_values([0, 1, 2])"
            ]
          },
          "metadata": {},
          "execution_count": 21
        }
      ]
    },
    {
      "cell_type": "markdown",
      "source": [
        "Consider the following dictionary:\n",
        "D = {'a':0,'b':1,'c':2}\n",
        "What is the output of the following D['b']?\n"
      ],
      "metadata": {
        "id": "W4p049os0TYZ"
      }
    },
    {
      "cell_type": "code",
      "source": [
        "D = {'a':0,'b':1,'c':2}\n",
        "D['b']"
      ],
      "metadata": {
        "colab": {
          "base_uri": "https://localhost:8080/"
        },
        "id": "GPEJneAt0UbM",
        "outputId": "bb7eb8ca-aa3a-45bf-967e-a29838457c2c"
      },
      "execution_count": 23,
      "outputs": [
        {
          "output_type": "execute_result",
          "data": {
            "text/plain": [
              "1"
            ]
          },
          "metadata": {},
          "execution_count": 23
        }
      ]
    },
    {
      "cell_type": "markdown",
      "source": [
        "**Review Questions**"
      ],
      "metadata": {
        "id": "74qS5zaC0aA_"
      }
    },
    {
      "cell_type": "markdown",
      "source": [
        "What is the syntax used to obtain the first element of the tuple:\n",
        "A = ('a','b','c')\n"
      ],
      "metadata": {
        "id": "MPsd94X70heT"
      }
    },
    {
      "cell_type": "code",
      "source": [
        "A = ('a','b','c')\n",
        "A[0]"
      ],
      "metadata": {
        "colab": {
          "base_uri": "https://localhost:8080/",
          "height": 35
        },
        "id": "czKevZoK0i3a",
        "outputId": "0d462cc0-66ef-407e-e48c-fa9845789e8d"
      },
      "execution_count": 24,
      "outputs": [
        {
          "output_type": "execute_result",
          "data": {
            "text/plain": [
              "'a'"
            ],
            "application/vnd.google.colaboratory.intrinsic+json": {
              "type": "string"
            }
          },
          "metadata": {},
          "execution_count": 24
        }
      ]
    },
    {
      "cell_type": "markdown",
      "source": [
        "After applying the following method, L.append(['a','b']), the following list will only be one element longer."
      ],
      "metadata": {
        "id": "b7ssC16o0lYB"
      }
    },
    {
      "cell_type": "markdown",
      "source": [
        "True"
      ],
      "metadata": {
        "id": "cckgrUa50uFV"
      }
    },
    {
      "cell_type": "markdown",
      "source": [
        "How many duplicate elements can you have in a set?"
      ],
      "metadata": {
        "id": "q0YaTGkh0u6v"
      }
    },
    {
      "cell_type": "markdown",
      "source": [
        "0. You can only have one unique element in a set."
      ],
      "metadata": {
        "id": "zSA6_Wlp0wk1"
      }
    },
    {
      "cell_type": "markdown",
      "source": [
        "Consider the following Python dictionary:\n",
        "Dict={\"A\":1,\"B\":\"2\",\"C\":[3,3,3],\"D\":(4,4,4),'E':5,'F':6} What is the result of the following operation: Dict[\"D\"]?\n"
      ],
      "metadata": {
        "id": "BGk7xb1J0x3c"
      }
    },
    {
      "cell_type": "code",
      "source": [
        "Dict={\"A\":1,\"B\":\"2\",\"C\":[3,3,3],\"D\":(4,4,4),'E':5,'F':6}\n",
        "Dict[\"D\"]"
      ],
      "metadata": {
        "colab": {
          "base_uri": "https://localhost:8080/"
        },
        "id": "zhL3g2bb0zF_",
        "outputId": "d0f5f1e6-f4f6-4e88-ccb6-22c92dd4a8b3"
      },
      "execution_count": 27,
      "outputs": [
        {
          "output_type": "execute_result",
          "data": {
            "text/plain": [
              "(4, 4, 4)"
            ]
          },
          "metadata": {},
          "execution_count": 27
        }
      ]
    },
    {
      "cell_type": "markdown",
      "source": [
        "What is an important difference between lists and tuples?"
      ],
      "metadata": {
        "id": "WQQIycSm060g"
      }
    },
    {
      "cell_type": "markdown",
      "source": [
        "Lists are mutable, tuples are not."
      ],
      "metadata": {
        "id": "SiBkXvgV07wl"
      }
    },
    {
      "cell_type": "markdown",
      "source": [
        "# Module 3"
      ],
      "metadata": {
        "id": "WCZgLe_w1TkA"
      }
    },
    {
      "cell_type": "markdown",
      "source": [
        "Select the values of i that produces a True for the following:"
      ],
      "metadata": {
        "id": "vIRhcci-1YAp"
      }
    },
    {
      "cell_type": "code",
      "source": [
        "1!=0"
      ],
      "metadata": {
        "colab": {
          "base_uri": "https://localhost:8080/"
        },
        "id": "zoohWTQr3-I0",
        "outputId": "f8dc4ac0-3070-4a6d-df26-203d29307c31"
      },
      "execution_count": 29,
      "outputs": [
        {
          "output_type": "execute_result",
          "data": {
            "text/plain": [
              "True"
            ]
          },
          "metadata": {},
          "execution_count": 29
        }
      ]
    },
    {
      "cell_type": "code",
      "source": [
        "-1!=0"
      ],
      "metadata": {
        "colab": {
          "base_uri": "https://localhost:8080/"
        },
        "id": "yrksa-2t4D3j",
        "outputId": "cbc6f4ca-afed-4def-f3ba-ae26815b7e2c"
      },
      "execution_count": 31,
      "outputs": [
        {
          "output_type": "execute_result",
          "data": {
            "text/plain": [
              "True"
            ]
          },
          "metadata": {},
          "execution_count": 31
        }
      ]
    },
    {
      "cell_type": "code",
      "source": [
        "100000000!=0"
      ],
      "metadata": {
        "colab": {
          "base_uri": "https://localhost:8080/"
        },
        "id": "NycTbjdL4IRu",
        "outputId": "aabf6180-2873-42f4-fdba-85fa47445e68"
      },
      "execution_count": 32,
      "outputs": [
        {
          "output_type": "execute_result",
          "data": {
            "text/plain": [
              "True"
            ]
          },
          "metadata": {},
          "execution_count": 32
        }
      ]
    },
    {
      "cell_type": "markdown",
      "source": [
        "What is the output of the following: x='a'\n",
        "\n",
        "if(x!='a'):\n",
        "\n",
        "print(\"This is not a.\")\n",
        "\n",
        "else:\n",
        "\n",
        "print(\"This is a.\")"
      ],
      "metadata": {
        "id": "4tg-hFFY4PEB"
      }
    },
    {
      "cell_type": "markdown",
      "source": [
        "\"This is a.\""
      ],
      "metadata": {
        "id": "MwZcp5X1414m"
      }
    },
    {
      "cell_type": "markdown",
      "source": [
        "What is the output of the following lines of code:\n",
        "\n",
        "A=[3,4,5]\n",
        "\n",
        "for a in A:\n",
        "\n",
        "print(a)"
      ],
      "metadata": {
        "id": "O-TwbVDt6yi9"
      }
    },
    {
      "cell_type": "markdown",
      "source": [
        "3, 4, 5"
      ],
      "metadata": {
        "id": "GyZFW3Ve7OVd"
      }
    },
    {
      "cell_type": "markdown",
      "source": [
        "What is the output of the following lines of code:\n",
        "\n",
        "x=3\n",
        "\n",
        "y=1\n",
        "\n",
        "while(y!=x):\n",
        "\n",
        "print(y)\n",
        "\n",
        "y=y+1"
      ],
      "metadata": {
        "id": "p1YFyPM07QU4"
      }
    },
    {
      "cell_type": "markdown",
      "source": [
        "1, 2"
      ],
      "metadata": {
        "id": "jhfndNHA7jlJ"
      }
    },
    {
      "cell_type": "markdown",
      "source": [
        "What is the value of c after the following block of code is run ?\n",
        "\n",
        "a=1\n",
        "\n",
        "def add(b):\n",
        "\n",
        "return a+b\n",
        "\n",
        "c=add(10)"
      ],
      "metadata": {
        "id": "59dYUxjCBfPW"
      }
    },
    {
      "cell_type": "markdown",
      "source": [
        "11"
      ],
      "metadata": {
        "id": "EUDxKnE0BjyJ"
      }
    },
    {
      "cell_type": "markdown",
      "source": [
        "What is the value of c after the following block of code is run with proper numerical input?\n",
        "\n",
        "def f(*x):\n",
        "\n",
        "return sum(x)"
      ],
      "metadata": {
        "id": "A_GyMRQKBuZm"
      }
    },
    {
      "cell_type": "markdown",
      "source": [
        "Return the total of a variable amount of parameters."
      ],
      "metadata": {
        "id": "F8yahuqyCATz"
      }
    },
    {
      "cell_type": "markdown",
      "source": [
        "Using the Class Car in the lab, create a Car object with the following attributes:\n",
        "\n",
        "make=\"Honda\"\n",
        "\n",
        "model=\"Accord\"\n",
        "\n",
        "color=\"blue\""
      ],
      "metadata": {
        "id": "kd15JV-RFHgU"
      }
    },
    {
      "cell_type": "markdown",
      "source": [
        "Car(make=\"Honda\",model=\"Accord\",color=\"blue\") Car(\"Honda\",\"Accord\",\"blue\") Car(model=\"Accord\",make=\"Honda\",color=\"blue\") "
      ],
      "metadata": {
        "id": "nFUrqCaDFIBb"
      }
    },
    {
      "cell_type": "markdown",
      "source": [
        "From the lab, how would you change the data attribute owner_number ?"
      ],
      "metadata": {
        "id": "5HaRUNm8FKEh"
      }
    },
    {
      "cell_type": "markdown",
      "source": [
        "Utilising the method sell()."
      ],
      "metadata": {
        "id": "WCdmLTlnFLSk"
      }
    }
  ]
}